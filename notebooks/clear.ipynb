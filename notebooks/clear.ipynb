{
 "metadata": {
  "language_info": {
   "codemirror_mode": {
    "name": "ipython",
    "version": 3
   },
   "file_extension": ".py",
   "mimetype": "text/x-python",
   "name": "python",
   "nbconvert_exporter": "python",
   "pygments_lexer": "ipython3",
   "version": "3.9.1-final"
  },
  "orig_nbformat": 2,
  "kernelspec": {
   "name": "python3",
   "display_name": "Python 3.9.1 64-bit",
   "metadata": {
    "interpreter": {
     "hash": "ac59ebe37160ed0dfa835113d9b8498d9f09ceb179beaac4002f036b9467c963"
    }
   }
  }
 },
 "nbformat": 4,
 "nbformat_minor": 2,
 "cells": [
  {
   "cell_type": "code",
   "execution_count": 1,
   "metadata": {},
   "outputs": [],
   "source": [
    "import pandas as pd\n",
    "import numpy as np\n",
    "import seaborn as sns\n",
    "import plotly.express as px\n",
    "import plotly.graph_objs as go\n",
    "import psutil\n",
    "import plotly.io as pio\n",
    "from utils.Unemployment import unemp\n",
    "from utils.Suicide import suic\n",
    "from utils.mining_data_tb import *"
   ]
  },
  {
   "cell_type": "code",
   "execution_count": 2,
   "metadata": {},
   "outputs": [],
   "source": [
    "suic_ages_mean = gr_meaner(suic, \"age\", \"suic_100k\")"
   ]
  },
  {
   "cell_type": "code",
   "execution_count": 3,
   "metadata": {},
   "outputs": [],
   "source": [
    "suic_countries_mean = gr_meaner(suic, 'country', 'suic_100k')"
   ]
  },
  {
   "cell_type": "code",
   "execution_count": 4,
   "metadata": {},
   "outputs": [],
   "source": [
    "unemp_ages_mean = gr_meaner(unemp, \"age\", \"unemploy_rate\")"
   ]
  },
  {
   "cell_type": "code",
   "execution_count": 5,
   "metadata": {},
   "outputs": [],
   "source": [
    "unemp_countries_mean = gr_meaner(unemp, \"age\", \"unemploy_rate\")"
   ]
  },
  {
   "cell_type": "code",
   "execution_count": 6,
   "metadata": {},
   "outputs": [],
   "source": [
    "most_per_100k , least_per_100k = most_least(suic, 'country', 'suic_100k', 5)"
   ]
  },
  {
   "cell_type": "code",
   "execution_count": 8,
   "metadata": {},
   "outputs": [],
   "source": [
    "most_unemp, least_unemp = most_least(unemp, \"country\", \"unemploy_rate\", 5)"
   ]
  },
  {
   "cell_type": "code",
   "execution_count": 9,
   "metadata": {},
   "outputs": [],
   "source": [
    "suic_pivot = pd.pivot_table(suic, index = ['country', 'year'], values = ['suicides_no', 'suic_100k']).round(2)\n",
    "\n",
    "sp_su = suic_pivot.loc[\"Spain\"]\n",
    "lt_su = suic_pivot.loc[\"Lithuania\"]\n",
    "ru_su = suic_pivot.loc[\"Russian Federation\"]\n",
    "tu_su = suic_pivot.loc[\"Turkey\"]\n",
    "sa_su = suic_pivot.loc[\"South Africa\"]\n"
   ]
  },
  {
   "cell_type": "code",
   "execution_count": 10,
   "metadata": {},
   "outputs": [],
   "source": [
    "unemp_pivot = unemp.drop(columns=[\"gender\", \"age\"])\n",
    "unemp_pivot = pd.pivot_table(unemp, index = ['country', 'year'], values = ['unemploy_rate']).round(2)\n",
    "\n",
    "sp_un = unemp_pivot_mean_gndr.loc[\"Spain\"]   \n",
    "nw_un = unemp_pivot_mean.loc[\"Norway\"]\n",
    "sa_un = unemp_pivot_mean.loc[\"South Africa\"]"
   ]
  },
  {
   "cell_type": "code",
   "execution_count": null,
   "metadata": {},
   "outputs": [],
   "source": []
  }
 ]
}