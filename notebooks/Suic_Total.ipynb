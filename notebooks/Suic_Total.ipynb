{
 "metadata": {
  "language_info": {
   "codemirror_mode": {
    "name": "ipython",
    "version": 3
   },
   "file_extension": ".py",
   "mimetype": "text/x-python",
   "name": "python",
   "nbconvert_exporter": "python",
   "pygments_lexer": "ipython3",
   "version": "3.9.1-final"
  },
  "orig_nbformat": 2,
  "kernelspec": {
   "name": "python3",
   "display_name": "Python 3.9.1 64-bit",
   "metadata": {
    "interpreter": {
     "hash": "ac59ebe37160ed0dfa835113d9b8498d9f09ceb179beaac4002f036b9467c963"
    }
   }
  }
 },
 "nbformat": 4,
 "nbformat_minor": 2,
 "cells": [
  {
   "cell_type": "code",
   "execution_count": 2,
   "metadata": {},
   "outputs": [],
   "source": [
    "import pandas as pd\n",
    "import numpy as np\n",
    "import seaborn as sns\n",
    "import plotly as po\n",
    "import plotly.express as px\n",
    "import plotly.graph_objs as go\n",
    "\n",
    "from counlist import countrylist\n",
    "\n",
    "\n",
    "suicide = pd.read_csv(\"C:\\\\DATA_SCIENCE\\\\PROYECTO\\\\documentation\\\\who_suicide_statistics.csv\")\n",
    "\n",
    "suic = suicide.loc[suicide[\"country\"].isin(countrylist)]         \n",
    "\n",
    "suic = suic.rename(columns={'sex': 'gender'})\n",
    "\n",
    "suic = suic[suic['year'] >= 2000]                                              \n",
    "\n",
    "\n",
    "suic['age'] = suic['age'].str.rstrip('years ')                      #normalising age format\n"
   ]
  },
  {
   "cell_type": "code",
   "execution_count": 4,
   "metadata": {},
   "outputs": [],
   "source": [
    "suic[\"suic_100k\"] = ((suic.suicides_no/suic.population)*100000).round(2)"
   ]
  },
  {
   "cell_type": "code",
   "execution_count": 6,
   "metadata": {},
   "outputs": [],
   "source": [
    "aggregation_functions = {'suic_100k': 'mean'}                                   #view of suicide on all range of ages"
   ]
  },
  {
   "cell_type": "code",
   "execution_count": 8,
   "metadata": {},
   "outputs": [
    {
     "output_type": "execute_result",
     "data": {
      "text/plain": [
       "       suic_100k\n",
       "age             \n",
       "75+        26.02\n",
       "55-74      18.45\n",
       "35-54      17.42\n",
       "25-34      12.70\n",
       "15-24       9.28\n",
       "5-14        0.52"
      ],
      "text/html": "<div>\n<style scoped>\n    .dataframe tbody tr th:only-of-type {\n        vertical-align: middle;\n    }\n\n    .dataframe tbody tr th {\n        vertical-align: top;\n    }\n\n    .dataframe thead th {\n        text-align: right;\n    }\n</style>\n<table border=\"1\" class=\"dataframe\">\n  <thead>\n    <tr style=\"text-align: right;\">\n      <th></th>\n      <th>suic_100k</th>\n    </tr>\n    <tr>\n      <th>age</th>\n      <th></th>\n    </tr>\n  </thead>\n  <tbody>\n    <tr>\n      <th>75+</th>\n      <td>26.02</td>\n    </tr>\n    <tr>\n      <th>55-74</th>\n      <td>18.45</td>\n    </tr>\n    <tr>\n      <th>35-54</th>\n      <td>17.42</td>\n    </tr>\n    <tr>\n      <th>25-34</th>\n      <td>12.70</td>\n    </tr>\n    <tr>\n      <th>15-24</th>\n      <td>9.28</td>\n    </tr>\n    <tr>\n      <th>5-14</th>\n      <td>0.52</td>\n    </tr>\n  </tbody>\n</table>\n</div>"
     },
     "metadata": {},
     "execution_count": 8
    }
   ],
   "source": [
    "suic_ages_mean = suic.groupby(suic['age']).aggregate(aggregation_functions).sort_values(\"suic_100k\",ascending=False).round(2)\n",
    "suic_ages_mean"
   ]
  },
  {
   "cell_type": "code",
   "execution_count": 10,
   "metadata": {},
   "outputs": [
    {
     "output_type": "execute_result",
     "data": {
      "text/plain": [
       "                    suic_100k\n",
       "country                      \n",
       "South Africa             1.04\n",
       "Turkey                   2.37\n",
       "Cyprus                   3.48\n",
       "Greece                   3.77\n",
       "Mexico                   5.18\n",
       "Brazil                   6.00\n",
       "Malta                    6.15\n",
       "Colombia                 6.23\n",
       "United Kingdom           6.77\n",
       "Costa Rica               7.20\n",
       "Italy                    7.20\n",
       "Israel                   7.36\n",
       "Spain                    8.64\n",
       "Netherlands              9.59\n",
       "Ireland                 10.87\n",
       "Canada                  11.00\n",
       "Norway                  11.54\n",
       "Portugal                11.58\n",
       "Australia               11.64\n",
       "Romania                 12.06\n",
       "Iceland                 12.44\n",
       "Denmark                 12.55\n",
       "Chile                   12.72\n",
       "Sweden                  12.87\n",
       "New Zealand             13.04\n",
       "Germany                 13.39\n",
       "Luxembourg              13.66\n",
       "Bulgaria                15.20\n",
       "Poland                  15.27\n",
       "Czech Republic          15.92\n",
       "Switzerland             17.91\n",
       "France                  18.34\n",
       "Finland                 18.50\n",
       "Belgium                 18.83\n",
       "Austria                 18.96\n",
       "Japan                   21.27\n",
       "Croatia                 21.36\n",
       "Estonia                 22.84\n",
       "Slovenia                25.94\n",
       "Latvia                  25.94\n",
       "Hungary                 27.30\n",
       "Russian Federation      31.34\n",
       "Lithuania               37.57"
      ],
      "text/html": "<div>\n<style scoped>\n    .dataframe tbody tr th:only-of-type {\n        vertical-align: middle;\n    }\n\n    .dataframe tbody tr th {\n        vertical-align: top;\n    }\n\n    .dataframe thead th {\n        text-align: right;\n    }\n</style>\n<table border=\"1\" class=\"dataframe\">\n  <thead>\n    <tr style=\"text-align: right;\">\n      <th></th>\n      <th>suic_100k</th>\n    </tr>\n    <tr>\n      <th>country</th>\n      <th></th>\n    </tr>\n  </thead>\n  <tbody>\n    <tr>\n      <th>South Africa</th>\n      <td>1.04</td>\n    </tr>\n    <tr>\n      <th>Turkey</th>\n      <td>2.37</td>\n    </tr>\n    <tr>\n      <th>Cyprus</th>\n      <td>3.48</td>\n    </tr>\n    <tr>\n      <th>Greece</th>\n      <td>3.77</td>\n    </tr>\n    <tr>\n      <th>Mexico</th>\n      <td>5.18</td>\n    </tr>\n    <tr>\n      <th>Brazil</th>\n      <td>6.00</td>\n    </tr>\n    <tr>\n      <th>Malta</th>\n      <td>6.15</td>\n    </tr>\n    <tr>\n      <th>Colombia</th>\n      <td>6.23</td>\n    </tr>\n    <tr>\n      <th>United Kingdom</th>\n      <td>6.77</td>\n    </tr>\n    <tr>\n      <th>Costa Rica</th>\n      <td>7.20</td>\n    </tr>\n    <tr>\n      <th>Italy</th>\n      <td>7.20</td>\n    </tr>\n    <tr>\n      <th>Israel</th>\n      <td>7.36</td>\n    </tr>\n    <tr>\n      <th>Spain</th>\n      <td>8.64</td>\n    </tr>\n    <tr>\n      <th>Netherlands</th>\n      <td>9.59</td>\n    </tr>\n    <tr>\n      <th>Ireland</th>\n      <td>10.87</td>\n    </tr>\n    <tr>\n      <th>Canada</th>\n      <td>11.00</td>\n    </tr>\n    <tr>\n      <th>Norway</th>\n      <td>11.54</td>\n    </tr>\n    <tr>\n      <th>Portugal</th>\n      <td>11.58</td>\n    </tr>\n    <tr>\n      <th>Australia</th>\n      <td>11.64</td>\n    </tr>\n    <tr>\n      <th>Romania</th>\n      <td>12.06</td>\n    </tr>\n    <tr>\n      <th>Iceland</th>\n      <td>12.44</td>\n    </tr>\n    <tr>\n      <th>Denmark</th>\n      <td>12.55</td>\n    </tr>\n    <tr>\n      <th>Chile</th>\n      <td>12.72</td>\n    </tr>\n    <tr>\n      <th>Sweden</th>\n      <td>12.87</td>\n    </tr>\n    <tr>\n      <th>New Zealand</th>\n      <td>13.04</td>\n    </tr>\n    <tr>\n      <th>Germany</th>\n      <td>13.39</td>\n    </tr>\n    <tr>\n      <th>Luxembourg</th>\n      <td>13.66</td>\n    </tr>\n    <tr>\n      <th>Bulgaria</th>\n      <td>15.20</td>\n    </tr>\n    <tr>\n      <th>Poland</th>\n      <td>15.27</td>\n    </tr>\n    <tr>\n      <th>Czech Republic</th>\n      <td>15.92</td>\n    </tr>\n    <tr>\n      <th>Switzerland</th>\n      <td>17.91</td>\n    </tr>\n    <tr>\n      <th>France</th>\n      <td>18.34</td>\n    </tr>\n    <tr>\n      <th>Finland</th>\n      <td>18.50</td>\n    </tr>\n    <tr>\n      <th>Belgium</th>\n      <td>18.83</td>\n    </tr>\n    <tr>\n      <th>Austria</th>\n      <td>18.96</td>\n    </tr>\n    <tr>\n      <th>Japan</th>\n      <td>21.27</td>\n    </tr>\n    <tr>\n      <th>Croatia</th>\n      <td>21.36</td>\n    </tr>\n    <tr>\n      <th>Estonia</th>\n      <td>22.84</td>\n    </tr>\n    <tr>\n      <th>Slovenia</th>\n      <td>25.94</td>\n    </tr>\n    <tr>\n      <th>Latvia</th>\n      <td>25.94</td>\n    </tr>\n    <tr>\n      <th>Hungary</th>\n      <td>27.30</td>\n    </tr>\n    <tr>\n      <th>Russian Federation</th>\n      <td>31.34</td>\n    </tr>\n    <tr>\n      <th>Lithuania</th>\n      <td>37.57</td>\n    </tr>\n  </tbody>\n</table>\n</div>"
     },
     "metadata": {},
     "execution_count": 10
    }
   ],
   "source": [
    "suic_countries_mean = suic.groupby('country').aggregate(aggregation_functions).sort_values(\"suic_100k\",ascending=True).round(2)\n",
    "suic_countries_mean"
   ]
  },
  {
   "cell_type": "code",
   "execution_count": 12,
   "metadata": {},
   "outputs": [],
   "source": [
    "most_per_100k = suic_countries_mean.sort_values(\"suic_100k\", ascending=False).round(2).head()\n",
    "least_per_100k = suic_countries_mean.sort_values(\"suic_100k\", ascending=False).round(2).tail()"
   ]
  },
  {
   "cell_type": "code",
   "execution_count": 14,
   "metadata": {},
   "outputs": [
    {
     "output_type": "stream",
     "name": "stdout",
     "text": [
      "                    suic_100k\ncountry                      \nLithuania               37.57\nRussian Federation      31.34\nHungary                 27.30\nLatvia                  25.94\nSlovenia                25.94\n              suic_100k\ncountry                \nMexico             5.18\nGreece             3.77\nCyprus             3.48\nTurkey             2.37\nSouth Africa       1.04\n"
     ]
    }
   ],
   "source": [
    "print(most_per_100k)\n",
    "print(least_per_100k)"
   ]
  },
  {
   "cell_type": "code",
   "execution_count": 16,
   "metadata": {},
   "outputs": [],
   "source": [
    "most_of_all = suic.sort_values(\"suicides_no\", ascending=False).head()\n",
    "least_of_all = suic.groupby(\"country\").sum().sort_values(\"suicides_no\", ascending=False).tail()"
   ]
  },
  {
   "cell_type": "code",
   "execution_count": 18,
   "metadata": {},
   "outputs": [
    {
     "output_type": "stream",
     "name": "stdout",
     "text": [
      "                  country  year gender    age  suicides_no  population  \\\n33212  Russian Federation  2001   male  35-54      21262.0  21476420.0   \n33200  Russian Federation  2000   male  35-54      21063.0  21378098.0   \n33224  Russian Federation  2002   male  35-54      20119.0  21320535.0   \n33236  Russian Federation  2003   male  35-54      18681.0  21007346.0   \n33248  Russian Federation  2004   male  35-54      17465.0  20843896.0   \n\n       suic_100k  \n33212      99.00  \n33200      98.53  \n33224      94.36  \n33236      88.93  \n33248      83.79  \n              year  suicides_no  population  suic_100k\ncountry                                               \nCosta Rica  361260       4291.0  59909934.0    1296.14\nLuxembourg  385440        944.0   7403051.0    2622.15\nIceland     409632        636.0   4885109.0    2537.12\nCyprus      385620        411.0  12194257.0     584.69\nMalta       385440        401.0   6217803.0    1181.22\n"
     ]
    }
   ],
   "source": [
    "print(most_of_all)\n",
    "print(least_of_all)"
   ]
  },
  {
   "cell_type": "code",
   "execution_count": 20,
   "metadata": {},
   "outputs": [],
   "source": [
    "suic_pivot = pd.pivot_table(suic, index = ['country', 'year'], values = ['suicides_no', 'suic_100k']).round(2)"
   ]
  },
  {
   "cell_type": "code",
   "execution_count": 22,
   "metadata": {},
   "outputs": [
    {
     "output_type": "execute_result",
     "data": {
      "text/plain": [
       "      suic_100k  suicides_no\n",
       "year                        \n",
       "2000      10.18       282.83\n",
       "2001       9.37       265.75\n",
       "2002       9.64       281.00\n",
       "2003       9.71       289.83\n",
       "2004       9.39       292.33\n",
       "2005       8.97       283.25\n",
       "2006       8.32       270.58\n",
       "2007       8.25       272.00\n",
       "2008       8.21       288.08\n",
       "2009       8.17       285.75\n",
       "2010       7.29       263.17\n",
       "2011       7.38       265.00\n",
       "2012       8.07       294.92\n",
       "2013       8.44       322.75\n",
       "2014       8.70       325.92\n",
       "2015       8.12       300.33"
      ],
      "text/html": "<div>\n<style scoped>\n    .dataframe tbody tr th:only-of-type {\n        vertical-align: middle;\n    }\n\n    .dataframe tbody tr th {\n        vertical-align: top;\n    }\n\n    .dataframe thead th {\n        text-align: right;\n    }\n</style>\n<table border=\"1\" class=\"dataframe\">\n  <thead>\n    <tr style=\"text-align: right;\">\n      <th></th>\n      <th>suic_100k</th>\n      <th>suicides_no</th>\n    </tr>\n    <tr>\n      <th>year</th>\n      <th></th>\n      <th></th>\n    </tr>\n  </thead>\n  <tbody>\n    <tr>\n      <th>2000</th>\n      <td>10.18</td>\n      <td>282.83</td>\n    </tr>\n    <tr>\n      <th>2001</th>\n      <td>9.37</td>\n      <td>265.75</td>\n    </tr>\n    <tr>\n      <th>2002</th>\n      <td>9.64</td>\n      <td>281.00</td>\n    </tr>\n    <tr>\n      <th>2003</th>\n      <td>9.71</td>\n      <td>289.83</td>\n    </tr>\n    <tr>\n      <th>2004</th>\n      <td>9.39</td>\n      <td>292.33</td>\n    </tr>\n    <tr>\n      <th>2005</th>\n      <td>8.97</td>\n      <td>283.25</td>\n    </tr>\n    <tr>\n      <th>2006</th>\n      <td>8.32</td>\n      <td>270.58</td>\n    </tr>\n    <tr>\n      <th>2007</th>\n      <td>8.25</td>\n      <td>272.00</td>\n    </tr>\n    <tr>\n      <th>2008</th>\n      <td>8.21</td>\n      <td>288.08</td>\n    </tr>\n    <tr>\n      <th>2009</th>\n      <td>8.17</td>\n      <td>285.75</td>\n    </tr>\n    <tr>\n      <th>2010</th>\n      <td>7.29</td>\n      <td>263.17</td>\n    </tr>\n    <tr>\n      <th>2011</th>\n      <td>7.38</td>\n      <td>265.00</td>\n    </tr>\n    <tr>\n      <th>2012</th>\n      <td>8.07</td>\n      <td>294.92</td>\n    </tr>\n    <tr>\n      <th>2013</th>\n      <td>8.44</td>\n      <td>322.75</td>\n    </tr>\n    <tr>\n      <th>2014</th>\n      <td>8.70</td>\n      <td>325.92</td>\n    </tr>\n    <tr>\n      <th>2015</th>\n      <td>8.12</td>\n      <td>300.33</td>\n    </tr>\n  </tbody>\n</table>\n</div>"
     },
     "metadata": {},
     "execution_count": 22
    }
   ],
   "source": [
    "sp_su = suic_pivot.loc[\"Spain\"]\n",
    "sp_su"
   ]
  },
  {
   "cell_type": "code",
   "execution_count": 24,
   "metadata": {},
   "outputs": [
    {
     "output_type": "execute_result",
     "data": {
      "text/plain": [
       "      suic_100k  suicides_no\n",
       "year                        \n",
       "2000      47.65       135.92\n",
       "2001      47.42       127.75\n",
       "2002      46.30       129.25\n",
       "2003      44.21       121.25\n",
       "2004      41.95       115.00\n",
       "2005      40.48       109.92\n",
       "2006      33.38        87.42\n",
       "2007      33.90        85.42\n",
       "2008      35.84        92.58\n",
       "2009      36.42        94.83\n",
       "2010      32.94        84.83\n",
       "2011      33.97        84.83\n",
       "2012      31.18        77.25\n",
       "2013      37.05        90.42\n",
       "2014      33.44        77.50\n",
       "2015      32.12        74.67\n",
       "2016      30.38        68.83"
      ],
      "text/html": "<div>\n<style scoped>\n    .dataframe tbody tr th:only-of-type {\n        vertical-align: middle;\n    }\n\n    .dataframe tbody tr th {\n        vertical-align: top;\n    }\n\n    .dataframe thead th {\n        text-align: right;\n    }\n</style>\n<table border=\"1\" class=\"dataframe\">\n  <thead>\n    <tr style=\"text-align: right;\">\n      <th></th>\n      <th>suic_100k</th>\n      <th>suicides_no</th>\n    </tr>\n    <tr>\n      <th>year</th>\n      <th></th>\n      <th></th>\n    </tr>\n  </thead>\n  <tbody>\n    <tr>\n      <th>2000</th>\n      <td>47.65</td>\n      <td>135.92</td>\n    </tr>\n    <tr>\n      <th>2001</th>\n      <td>47.42</td>\n      <td>127.75</td>\n    </tr>\n    <tr>\n      <th>2002</th>\n      <td>46.30</td>\n      <td>129.25</td>\n    </tr>\n    <tr>\n      <th>2003</th>\n      <td>44.21</td>\n      <td>121.25</td>\n    </tr>\n    <tr>\n      <th>2004</th>\n      <td>41.95</td>\n      <td>115.00</td>\n    </tr>\n    <tr>\n      <th>2005</th>\n      <td>40.48</td>\n      <td>109.92</td>\n    </tr>\n    <tr>\n      <th>2006</th>\n      <td>33.38</td>\n      <td>87.42</td>\n    </tr>\n    <tr>\n      <th>2007</th>\n      <td>33.90</td>\n      <td>85.42</td>\n    </tr>\n    <tr>\n      <th>2008</th>\n      <td>35.84</td>\n      <td>92.58</td>\n    </tr>\n    <tr>\n      <th>2009</th>\n      <td>36.42</td>\n      <td>94.83</td>\n    </tr>\n    <tr>\n      <th>2010</th>\n      <td>32.94</td>\n      <td>84.83</td>\n    </tr>\n    <tr>\n      <th>2011</th>\n      <td>33.97</td>\n      <td>84.83</td>\n    </tr>\n    <tr>\n      <th>2012</th>\n      <td>31.18</td>\n      <td>77.25</td>\n    </tr>\n    <tr>\n      <th>2013</th>\n      <td>37.05</td>\n      <td>90.42</td>\n    </tr>\n    <tr>\n      <th>2014</th>\n      <td>33.44</td>\n      <td>77.50</td>\n    </tr>\n    <tr>\n      <th>2015</th>\n      <td>32.12</td>\n      <td>74.67</td>\n    </tr>\n    <tr>\n      <th>2016</th>\n      <td>30.38</td>\n      <td>68.83</td>\n    </tr>\n  </tbody>\n</table>\n</div>"
     },
     "metadata": {},
     "execution_count": 24
    }
   ],
   "source": [
    "lt_su = suic_pivot.loc[\"Lithuania\"]\n",
    "lt_su"
   ]
  },
  {
   "cell_type": "code",
   "execution_count": 26,
   "metadata": {},
   "outputs": [
    {
     "output_type": "execute_result",
     "data": {
      "text/plain": [
       "      suic_100k  suicides_no\n",
       "year                        \n",
       "2000      42.04      4718.25\n",
       "2001      42.05      4746.50\n",
       "2002      40.71      4585.33\n",
       "2003      39.08      4287.08\n",
       "2004      37.30      4091.33\n",
       "2005      35.03      3816.83\n",
       "2006      33.44      3551.17\n",
       "2007      32.25      3429.08\n",
       "2008      30.57      3184.25\n",
       "2009      29.40      3117.33\n",
       "2010      26.60      2779.67\n",
       "2011      24.97      2586.50\n",
       "2012      23.79      2470.25\n",
       "2013      22.83      2390.83\n",
       "2014      21.60      2211.75\n",
       "2015      19.74      2119.33"
      ],
      "text/html": "<div>\n<style scoped>\n    .dataframe tbody tr th:only-of-type {\n        vertical-align: middle;\n    }\n\n    .dataframe tbody tr th {\n        vertical-align: top;\n    }\n\n    .dataframe thead th {\n        text-align: right;\n    }\n</style>\n<table border=\"1\" class=\"dataframe\">\n  <thead>\n    <tr style=\"text-align: right;\">\n      <th></th>\n      <th>suic_100k</th>\n      <th>suicides_no</th>\n    </tr>\n    <tr>\n      <th>year</th>\n      <th></th>\n      <th></th>\n    </tr>\n  </thead>\n  <tbody>\n    <tr>\n      <th>2000</th>\n      <td>42.04</td>\n      <td>4718.25</td>\n    </tr>\n    <tr>\n      <th>2001</th>\n      <td>42.05</td>\n      <td>4746.50</td>\n    </tr>\n    <tr>\n      <th>2002</th>\n      <td>40.71</td>\n      <td>4585.33</td>\n    </tr>\n    <tr>\n      <th>2003</th>\n      <td>39.08</td>\n      <td>4287.08</td>\n    </tr>\n    <tr>\n      <th>2004</th>\n      <td>37.30</td>\n      <td>4091.33</td>\n    </tr>\n    <tr>\n      <th>2005</th>\n      <td>35.03</td>\n      <td>3816.83</td>\n    </tr>\n    <tr>\n      <th>2006</th>\n      <td>33.44</td>\n      <td>3551.17</td>\n    </tr>\n    <tr>\n      <th>2007</th>\n      <td>32.25</td>\n      <td>3429.08</td>\n    </tr>\n    <tr>\n      <th>2008</th>\n      <td>30.57</td>\n      <td>3184.25</td>\n    </tr>\n    <tr>\n      <th>2009</th>\n      <td>29.40</td>\n      <td>3117.33</td>\n    </tr>\n    <tr>\n      <th>2010</th>\n      <td>26.60</td>\n      <td>2779.67</td>\n    </tr>\n    <tr>\n      <th>2011</th>\n      <td>24.97</td>\n      <td>2586.50</td>\n    </tr>\n    <tr>\n      <th>2012</th>\n      <td>23.79</td>\n      <td>2470.25</td>\n    </tr>\n    <tr>\n      <th>2013</th>\n      <td>22.83</td>\n      <td>2390.83</td>\n    </tr>\n    <tr>\n      <th>2014</th>\n      <td>21.60</td>\n      <td>2211.75</td>\n    </tr>\n    <tr>\n      <th>2015</th>\n      <td>19.74</td>\n      <td>2119.33</td>\n    </tr>\n  </tbody>\n</table>\n</div>"
     },
     "metadata": {},
     "execution_count": 26
    }
   ],
   "source": [
    "ru_su = suic_pivot.loc[\"Russian Federation\"]\n",
    "ru_su"
   ]
  },
  {
   "cell_type": "code",
   "execution_count": 28,
   "metadata": {},
   "outputs": [
    {
     "output_type": "execute_result",
     "data": {
      "text/plain": [
       "      suic_100k  suicides_no\n",
       "year                        \n",
       "2009       1.77        87.50\n",
       "2010       2.64       127.00\n",
       "2011       1.92        95.67\n",
       "2012       2.37       120.83\n",
       "2013       2.95       150.83\n",
       "2014       2.57       134.75\n",
       "2015       2.37       127.67"
      ],
      "text/html": "<div>\n<style scoped>\n    .dataframe tbody tr th:only-of-type {\n        vertical-align: middle;\n    }\n\n    .dataframe tbody tr th {\n        vertical-align: top;\n    }\n\n    .dataframe thead th {\n        text-align: right;\n    }\n</style>\n<table border=\"1\" class=\"dataframe\">\n  <thead>\n    <tr style=\"text-align: right;\">\n      <th></th>\n      <th>suic_100k</th>\n      <th>suicides_no</th>\n    </tr>\n    <tr>\n      <th>year</th>\n      <th></th>\n      <th></th>\n    </tr>\n  </thead>\n  <tbody>\n    <tr>\n      <th>2009</th>\n      <td>1.77</td>\n      <td>87.50</td>\n    </tr>\n    <tr>\n      <th>2010</th>\n      <td>2.64</td>\n      <td>127.00</td>\n    </tr>\n    <tr>\n      <th>2011</th>\n      <td>1.92</td>\n      <td>95.67</td>\n    </tr>\n    <tr>\n      <th>2012</th>\n      <td>2.37</td>\n      <td>120.83</td>\n    </tr>\n    <tr>\n      <th>2013</th>\n      <td>2.95</td>\n      <td>150.83</td>\n    </tr>\n    <tr>\n      <th>2014</th>\n      <td>2.57</td>\n      <td>134.75</td>\n    </tr>\n    <tr>\n      <th>2015</th>\n      <td>2.37</td>\n      <td>127.67</td>\n    </tr>\n  </tbody>\n</table>\n</div>"
     },
     "metadata": {},
     "execution_count": 28
    }
   ],
   "source": [
    "tu_su = suic_pivot.loc[\"Turkey\"]\n",
    "tu_su"
   ]
  },
  {
   "cell_type": "code",
   "execution_count": 30,
   "metadata": {},
   "outputs": [
    {
     "output_type": "execute_result",
     "data": {
      "text/plain": [
       "      suic_100k  suicides_no\n",
       "year                        \n",
       "2000       0.80        22.25\n",
       "2001       1.04        32.00\n",
       "2002       0.58        19.67\n",
       "2003       0.77        21.33\n",
       "2004       1.05        31.92\n",
       "2005       1.27        38.17\n",
       "2006       1.49        42.83\n",
       "2007       1.01        34.75\n",
       "2008       1.18        36.75\n",
       "2009       0.89        31.00\n",
       "2010       1.09        32.75\n",
       "2011       0.78        29.83\n",
       "2012       1.13        40.58\n",
       "2013       1.24        48.92\n",
       "2014       1.26        48.33\n",
       "2015       1.08        40.17"
      ],
      "text/html": "<div>\n<style scoped>\n    .dataframe tbody tr th:only-of-type {\n        vertical-align: middle;\n    }\n\n    .dataframe tbody tr th {\n        vertical-align: top;\n    }\n\n    .dataframe thead th {\n        text-align: right;\n    }\n</style>\n<table border=\"1\" class=\"dataframe\">\n  <thead>\n    <tr style=\"text-align: right;\">\n      <th></th>\n      <th>suic_100k</th>\n      <th>suicides_no</th>\n    </tr>\n    <tr>\n      <th>year</th>\n      <th></th>\n      <th></th>\n    </tr>\n  </thead>\n  <tbody>\n    <tr>\n      <th>2000</th>\n      <td>0.80</td>\n      <td>22.25</td>\n    </tr>\n    <tr>\n      <th>2001</th>\n      <td>1.04</td>\n      <td>32.00</td>\n    </tr>\n    <tr>\n      <th>2002</th>\n      <td>0.58</td>\n      <td>19.67</td>\n    </tr>\n    <tr>\n      <th>2003</th>\n      <td>0.77</td>\n      <td>21.33</td>\n    </tr>\n    <tr>\n      <th>2004</th>\n      <td>1.05</td>\n      <td>31.92</td>\n    </tr>\n    <tr>\n      <th>2005</th>\n      <td>1.27</td>\n      <td>38.17</td>\n    </tr>\n    <tr>\n      <th>2006</th>\n      <td>1.49</td>\n      <td>42.83</td>\n    </tr>\n    <tr>\n      <th>2007</th>\n      <td>1.01</td>\n      <td>34.75</td>\n    </tr>\n    <tr>\n      <th>2008</th>\n      <td>1.18</td>\n      <td>36.75</td>\n    </tr>\n    <tr>\n      <th>2009</th>\n      <td>0.89</td>\n      <td>31.00</td>\n    </tr>\n    <tr>\n      <th>2010</th>\n      <td>1.09</td>\n      <td>32.75</td>\n    </tr>\n    <tr>\n      <th>2011</th>\n      <td>0.78</td>\n      <td>29.83</td>\n    </tr>\n    <tr>\n      <th>2012</th>\n      <td>1.13</td>\n      <td>40.58</td>\n    </tr>\n    <tr>\n      <th>2013</th>\n      <td>1.24</td>\n      <td>48.92</td>\n    </tr>\n    <tr>\n      <th>2014</th>\n      <td>1.26</td>\n      <td>48.33</td>\n    </tr>\n    <tr>\n      <th>2015</th>\n      <td>1.08</td>\n      <td>40.17</td>\n    </tr>\n  </tbody>\n</table>\n</div>"
     },
     "metadata": {},
     "execution_count": 30
    }
   ],
   "source": [
    "sa_su = suic_pivot.loc[\"South Africa\"]\n",
    "sa_su"
   ]
  },
  {
   "cell_type": "code",
   "execution_count": 32,
   "metadata": {},
   "outputs": [
    {
     "output_type": "execute_result",
     "data": {
      "text/plain": [
       "           year  suicides_no  population  suic_100k\n",
       "gender                                             \n",
       "female  2007.61       137.55  2429421.94       5.68\n",
       "male    2007.61       477.51  2300937.23      22.45"
      ],
      "text/html": "<div>\n<style scoped>\n    .dataframe tbody tr th:only-of-type {\n        vertical-align: middle;\n    }\n\n    .dataframe tbody tr th {\n        vertical-align: top;\n    }\n\n    .dataframe thead th {\n        text-align: right;\n    }\n</style>\n<table border=\"1\" class=\"dataframe\">\n  <thead>\n    <tr style=\"text-align: right;\">\n      <th></th>\n      <th>year</th>\n      <th>suicides_no</th>\n      <th>population</th>\n      <th>suic_100k</th>\n    </tr>\n    <tr>\n      <th>gender</th>\n      <th></th>\n      <th></th>\n      <th></th>\n      <th></th>\n    </tr>\n  </thead>\n  <tbody>\n    <tr>\n      <th>female</th>\n      <td>2007.61</td>\n      <td>137.55</td>\n      <td>2429421.94</td>\n      <td>5.68</td>\n    </tr>\n    <tr>\n      <th>male</th>\n      <td>2007.61</td>\n      <td>477.51</td>\n      <td>2300937.23</td>\n      <td>22.45</td>\n    </tr>\n  </tbody>\n</table>\n</div>"
     },
     "metadata": {},
     "execution_count": 32
    }
   ],
   "source": [
    "suic_age_group = suic.groupby(['gender']).mean().round(2)\n",
    "suic_age_group"
   ]
  }
 ]
}