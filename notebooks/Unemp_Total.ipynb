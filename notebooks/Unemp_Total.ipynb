{
 "metadata": {
  "language_info": {
   "codemirror_mode": {
    "name": "ipython",
    "version": 3
   },
   "file_extension": ".py",
   "mimetype": "text/x-python",
   "name": "python",
   "nbconvert_exporter": "python",
   "pygments_lexer": "ipython3",
   "version": "3.9.1-final"
  },
  "orig_nbformat": 2,
  "kernelspec": {
   "name": "python3",
   "display_name": "Python 3.9.1 64-bit",
   "metadata": {
    "interpreter": {
     "hash": "ac59ebe37160ed0dfa835113d9b8498d9f09ceb179beaac4002f036b9467c963"
    }
   }
  }
 },
 "nbformat": 4,
 "nbformat_minor": 2,
 "cells": [
  {
   "cell_type": "code",
   "execution_count": 1,
   "metadata": {},
   "outputs": [],
   "source": [
    "import pandas as pd\n",
    "import numpy as np\n",
    "import seaborn as sns\n",
    "import plotly as po\n",
    "import plotly.express as px\n",
    "import plotly.graph_objs as go\n",
    "\n",
    "from counlist import countrylist\n",
    "\n",
    "unemployment = pd.read_csv(\"..\\\\documentation\\\\unemployment_all_ratio.csv\")\n",
    "\n",
    "\n",
    "unemp = unemployment.loc[unemployment[\"Country\"].isin(countrylist)]                              \n",
    "\n",
    "unemp = unemp.loc[unemployment['Series'] == \"Unemployment rate\"]      \n",
    "               \n",
    "unemp = unemp[~unemp.Country.str.contains(\"Euro\")]                                     \n",
    "unemp = unemp[~unemp.Country.str.contains(\"Spain\")]  \n",
    "\n",
    "unemp = unemp.rename(columns={'SEX': 'Gender', 'Value':'Unemploy_Rate', \"Time\": \"Year\"})         \n",
    "unemp = unemp[['Country', 'Gender', 'Age', 'Year', 'Unemploy_Rate']]                             \n",
    "\n",
    "unemp.columns = [x.lower() for x in unemp.columns]                                               \n",
    "unemp = unemp[unemp['year'] <= 2016]                                                                                      \n",
    "\n",
    "unemp.drop(unemp[unemp.gender == 'MW'].index, inplace=True)                                                        \n",
    "unemp.loc[unemp['gender'] == \"MEN\", 'gender'] = \"male\"                                           \n",
    "unemp.loc[unemp['gender'] == \"WOMEN\", 'gender'] = \"female\"                                                     \n",
    "\n",
    "unemp['age'] = unemp['age'].str.replace(' to ', '-')                                            \n",
    "\n",
    "\n",
    "unemp = unemp[(unemp['age'] == '15-24') | (unemp['age'] == '25-34') |(unemp['age'] == '35-44') |(unemp['age'] == '45-54') | (unemp['age'] == '55-64') |(unemp['age'] == '65-69') | (unemp['age'] == '70-74')]                                                                                                                           "
   ]
  },
  {
   "cell_type": "code",
   "execution_count": 12,
   "metadata": {},
   "outputs": [
    {
     "output_type": "execute_result",
     "data": {
      "text/plain": [
       "              year  unemploy_rate\n",
       "count  9575.000000    9575.000000\n",
       "mean   2008.111854       7.067016\n",
       "std       4.870039       7.330798\n",
       "min    2000.000000       0.000000\n",
       "25%    2004.000000       2.550244\n",
       "50%    2008.000000       5.115512\n",
       "75%    2012.000000       9.034691\n",
       "max    2016.000000      63.839298"
      ],
      "text/html": "<div>\n<style scoped>\n    .dataframe tbody tr th:only-of-type {\n        vertical-align: middle;\n    }\n\n    .dataframe tbody tr th {\n        vertical-align: top;\n    }\n\n    .dataframe thead th {\n        text-align: right;\n    }\n</style>\n<table border=\"1\" class=\"dataframe\">\n  <thead>\n    <tr style=\"text-align: right;\">\n      <th></th>\n      <th>year</th>\n      <th>unemploy_rate</th>\n    </tr>\n  </thead>\n  <tbody>\n    <tr>\n      <th>count</th>\n      <td>9575.000000</td>\n      <td>9575.000000</td>\n    </tr>\n    <tr>\n      <th>mean</th>\n      <td>2008.111854</td>\n      <td>7.067016</td>\n    </tr>\n    <tr>\n      <th>std</th>\n      <td>4.870039</td>\n      <td>7.330798</td>\n    </tr>\n    <tr>\n      <th>min</th>\n      <td>2000.000000</td>\n      <td>0.000000</td>\n    </tr>\n    <tr>\n      <th>25%</th>\n      <td>2004.000000</td>\n      <td>2.550244</td>\n    </tr>\n    <tr>\n      <th>50%</th>\n      <td>2008.000000</td>\n      <td>5.115512</td>\n    </tr>\n    <tr>\n      <th>75%</th>\n      <td>2012.000000</td>\n      <td>9.034691</td>\n    </tr>\n    <tr>\n      <th>max</th>\n      <td>2016.000000</td>\n      <td>63.839298</td>\n    </tr>\n  </tbody>\n</table>\n</div>"
     },
     "metadata": {},
     "execution_count": 12
    }
   ],
   "source": [
    "unemp.describe()"
   ]
  },
  {
   "cell_type": "code",
   "execution_count": 3,
   "metadata": {},
   "outputs": [],
   "source": [
    "unemp.loc[(unemp[\"age\"] == '35-44') | (unemp[\"age\"] == '45-54'), 'age'] = '35-54'                                   \n",
    "unemp.loc[(unemp[\"age\"] == '55-64') | (unemp[\"age\"] == '65-69') | (unemp[\"age\"] == '70-74'), 'age'] = \"55-74\""
   ]
  },
  {
   "cell_type": "code",
   "execution_count": 4,
   "metadata": {},
   "outputs": [],
   "source": [
    "aggregation_functions = {'unemploy_rate': 'mean'}"
   ]
  },
  {
   "cell_type": "code",
   "execution_count": 5,
   "metadata": {},
   "outputs": [
    {
     "output_type": "execute_result",
     "data": {
      "text/plain": [
       "       unemploy_rate\n",
       "age                 \n",
       "15-24          18.31\n",
       "25-34           8.86\n",
       "35-54           6.20\n",
       "55-74           2.99"
      ],
      "text/html": "<div>\n<style scoped>\n    .dataframe tbody tr th:only-of-type {\n        vertical-align: middle;\n    }\n\n    .dataframe tbody tr th {\n        vertical-align: top;\n    }\n\n    .dataframe thead th {\n        text-align: right;\n    }\n</style>\n<table border=\"1\" class=\"dataframe\">\n  <thead>\n    <tr style=\"text-align: right;\">\n      <th></th>\n      <th>unemploy_rate</th>\n    </tr>\n    <tr>\n      <th>age</th>\n      <th></th>\n    </tr>\n  </thead>\n  <tbody>\n    <tr>\n      <th>15-24</th>\n      <td>18.31</td>\n    </tr>\n    <tr>\n      <th>25-34</th>\n      <td>8.86</td>\n    </tr>\n    <tr>\n      <th>35-54</th>\n      <td>6.20</td>\n    </tr>\n    <tr>\n      <th>55-74</th>\n      <td>2.99</td>\n    </tr>\n  </tbody>\n</table>\n</div>"
     },
     "metadata": {},
     "execution_count": 5
    }
   ],
   "source": [
    "unemp_ages_mean = unemp.groupby('age').aggregate(aggregation_functions).sort_values(\"unemploy_rate\", ascending=False).round(2)\n",
    "unemp_ages_mean"
   ]
  },
  {
   "cell_type": "code",
   "execution_count": 6,
   "metadata": {},
   "outputs": [
    {
     "output_type": "execute_result",
     "data": {
      "text/plain": [
       "                    unemploy_rate\n",
       "country                          \n",
       "South Africa                21.29\n",
       "Greece                      13.37\n",
       "Croatia                     11.40\n",
       "Poland                      10.82\n",
       "Bulgaria                    10.46\n",
       "Latvia                      10.28\n",
       "Lithuania                    9.75\n",
       "Colombia                     9.64\n",
       "Italy                        9.07\n",
       "Estonia                      8.42\n",
       "Portugal                     8.29\n",
       "Chile                        7.91\n",
       "Russian Federation           7.74\n",
       "Finland                      7.73\n",
       "France                       7.66\n",
       "Israel                       7.38\n",
       "Turkey                       7.14\n",
       "Brazil                       7.05\n",
       "Hungary                      6.90\n",
       "Belgium                      6.83\n",
       "Cyprus                       6.59\n",
       "Czech Republic               6.45\n",
       "Sweden                       6.39\n",
       "Costa Rica                   6.24\n",
       "Ireland                      6.20\n",
       "Canada                       6.19\n",
       "Romania                      6.03\n",
       "United Kingdom               6.03\n",
       "Germany                      5.89\n",
       "Slovenia                     5.79\n",
       "Malta                        4.96\n",
       "Australia                    4.96\n",
       "Netherlands                  4.77\n",
       "Luxembourg                   4.59\n",
       "New Zealand                  4.39\n",
       "Denmark                      4.37\n",
       "Japan                        4.20\n",
       "Iceland                      3.93\n",
       "Austria                      3.86\n",
       "Switzerland                  3.40\n",
       "Norway                       3.09\n",
       "Mexico                       3.07"
      ],
      "text/html": "<div>\n<style scoped>\n    .dataframe tbody tr th:only-of-type {\n        vertical-align: middle;\n    }\n\n    .dataframe tbody tr th {\n        vertical-align: top;\n    }\n\n    .dataframe thead th {\n        text-align: right;\n    }\n</style>\n<table border=\"1\" class=\"dataframe\">\n  <thead>\n    <tr style=\"text-align: right;\">\n      <th></th>\n      <th>unemploy_rate</th>\n    </tr>\n    <tr>\n      <th>country</th>\n      <th></th>\n    </tr>\n  </thead>\n  <tbody>\n    <tr>\n      <th>South Africa</th>\n      <td>21.29</td>\n    </tr>\n    <tr>\n      <th>Greece</th>\n      <td>13.37</td>\n    </tr>\n    <tr>\n      <th>Croatia</th>\n      <td>11.40</td>\n    </tr>\n    <tr>\n      <th>Poland</th>\n      <td>10.82</td>\n    </tr>\n    <tr>\n      <th>Bulgaria</th>\n      <td>10.46</td>\n    </tr>\n    <tr>\n      <th>Latvia</th>\n      <td>10.28</td>\n    </tr>\n    <tr>\n      <th>Lithuania</th>\n      <td>9.75</td>\n    </tr>\n    <tr>\n      <th>Colombia</th>\n      <td>9.64</td>\n    </tr>\n    <tr>\n      <th>Italy</th>\n      <td>9.07</td>\n    </tr>\n    <tr>\n      <th>Estonia</th>\n      <td>8.42</td>\n    </tr>\n    <tr>\n      <th>Portugal</th>\n      <td>8.29</td>\n    </tr>\n    <tr>\n      <th>Chile</th>\n      <td>7.91</td>\n    </tr>\n    <tr>\n      <th>Russian Federation</th>\n      <td>7.74</td>\n    </tr>\n    <tr>\n      <th>Finland</th>\n      <td>7.73</td>\n    </tr>\n    <tr>\n      <th>France</th>\n      <td>7.66</td>\n    </tr>\n    <tr>\n      <th>Israel</th>\n      <td>7.38</td>\n    </tr>\n    <tr>\n      <th>Turkey</th>\n      <td>7.14</td>\n    </tr>\n    <tr>\n      <th>Brazil</th>\n      <td>7.05</td>\n    </tr>\n    <tr>\n      <th>Hungary</th>\n      <td>6.90</td>\n    </tr>\n    <tr>\n      <th>Belgium</th>\n      <td>6.83</td>\n    </tr>\n    <tr>\n      <th>Cyprus</th>\n      <td>6.59</td>\n    </tr>\n    <tr>\n      <th>Czech Republic</th>\n      <td>6.45</td>\n    </tr>\n    <tr>\n      <th>Sweden</th>\n      <td>6.39</td>\n    </tr>\n    <tr>\n      <th>Costa Rica</th>\n      <td>6.24</td>\n    </tr>\n    <tr>\n      <th>Ireland</th>\n      <td>6.20</td>\n    </tr>\n    <tr>\n      <th>Canada</th>\n      <td>6.19</td>\n    </tr>\n    <tr>\n      <th>Romania</th>\n      <td>6.03</td>\n    </tr>\n    <tr>\n      <th>United Kingdom</th>\n      <td>6.03</td>\n    </tr>\n    <tr>\n      <th>Germany</th>\n      <td>5.89</td>\n    </tr>\n    <tr>\n      <th>Slovenia</th>\n      <td>5.79</td>\n    </tr>\n    <tr>\n      <th>Malta</th>\n      <td>4.96</td>\n    </tr>\n    <tr>\n      <th>Australia</th>\n      <td>4.96</td>\n    </tr>\n    <tr>\n      <th>Netherlands</th>\n      <td>4.77</td>\n    </tr>\n    <tr>\n      <th>Luxembourg</th>\n      <td>4.59</td>\n    </tr>\n    <tr>\n      <th>New Zealand</th>\n      <td>4.39</td>\n    </tr>\n    <tr>\n      <th>Denmark</th>\n      <td>4.37</td>\n    </tr>\n    <tr>\n      <th>Japan</th>\n      <td>4.20</td>\n    </tr>\n    <tr>\n      <th>Iceland</th>\n      <td>3.93</td>\n    </tr>\n    <tr>\n      <th>Austria</th>\n      <td>3.86</td>\n    </tr>\n    <tr>\n      <th>Switzerland</th>\n      <td>3.40</td>\n    </tr>\n    <tr>\n      <th>Norway</th>\n      <td>3.09</td>\n    </tr>\n    <tr>\n      <th>Mexico</th>\n      <td>3.07</td>\n    </tr>\n  </tbody>\n</table>\n</div>"
     },
     "metadata": {},
     "execution_count": 6
    }
   ],
   "source": [
    "unemp_countries_mean = unemp.groupby('country').aggregate(aggregation_functions).sort_values(\"unemploy_rate\", ascending=False).round(2)\n",
    "unemp_countries_mean"
   ]
  },
  {
   "cell_type": "code",
   "execution_count": 7,
   "metadata": {},
   "outputs": [],
   "source": [
    "most_unemp = unemp_countries_mean.sort_values(\"unemploy_rate\", ascending=False).round(2).head(5)\n",
    "least_unemp = unemp_countries_mean.sort_values(\"unemploy_rate\", ascending=False).round(2).tail(5)"
   ]
  },
  {
   "cell_type": "code",
   "execution_count": 8,
   "metadata": {},
   "outputs": [
    {
     "output_type": "stream",
     "name": "stdout",
     "text": [
      "              unemploy_rate\ncountry                    \nSouth Africa          21.29\nGreece                13.37\nCroatia               11.40\nPoland                10.82\nBulgaria              10.46\n             unemploy_rate\ncountry                   \nIceland               3.93\nAustria               3.86\nSwitzerland           3.40\nNorway                3.09\nMexico                3.07\n"
     ]
    }
   ],
   "source": [
    "print(most_unemp)\n",
    "print(least_unemp)"
   ]
  },
  {
   "cell_type": "code",
   "execution_count": 9,
   "metadata": {},
   "outputs": [
    {
     "output_type": "execute_result",
     "data": {
      "text/plain": [
       "                            unemploy_rate\n",
       "country        year gender               \n",
       "Australia      2000 female           4.99\n",
       "                    male             5.87\n",
       "               2001 female           5.35\n",
       "                    male             6.40\n",
       "               2002 female           5.16\n",
       "...                                   ...\n",
       "United Kingdom 2014 male             6.75\n",
       "               2015 female           4.97\n",
       "                    male             5.58\n",
       "               2016 female           4.71\n",
       "                    male             5.17\n",
       "\n",
       "[1414 rows x 1 columns]"
      ],
      "text/html": "<div>\n<style scoped>\n    .dataframe tbody tr th:only-of-type {\n        vertical-align: middle;\n    }\n\n    .dataframe tbody tr th {\n        vertical-align: top;\n    }\n\n    .dataframe thead th {\n        text-align: right;\n    }\n</style>\n<table border=\"1\" class=\"dataframe\">\n  <thead>\n    <tr style=\"text-align: right;\">\n      <th></th>\n      <th></th>\n      <th></th>\n      <th>unemploy_rate</th>\n    </tr>\n    <tr>\n      <th>country</th>\n      <th>year</th>\n      <th>gender</th>\n      <th></th>\n    </tr>\n  </thead>\n  <tbody>\n    <tr>\n      <th rowspan=\"5\" valign=\"top\">Australia</th>\n      <th rowspan=\"2\" valign=\"top\">2000</th>\n      <th>female</th>\n      <td>4.99</td>\n    </tr>\n    <tr>\n      <th>male</th>\n      <td>5.87</td>\n    </tr>\n    <tr>\n      <th rowspan=\"2\" valign=\"top\">2001</th>\n      <th>female</th>\n      <td>5.35</td>\n    </tr>\n    <tr>\n      <th>male</th>\n      <td>6.40</td>\n    </tr>\n    <tr>\n      <th>2002</th>\n      <th>female</th>\n      <td>5.16</td>\n    </tr>\n    <tr>\n      <th>...</th>\n      <th>...</th>\n      <th>...</th>\n      <td>...</td>\n    </tr>\n    <tr>\n      <th rowspan=\"5\" valign=\"top\">United Kingdom</th>\n      <th>2014</th>\n      <th>male</th>\n      <td>6.75</td>\n    </tr>\n    <tr>\n      <th rowspan=\"2\" valign=\"top\">2015</th>\n      <th>female</th>\n      <td>4.97</td>\n    </tr>\n    <tr>\n      <th>male</th>\n      <td>5.58</td>\n    </tr>\n    <tr>\n      <th rowspan=\"2\" valign=\"top\">2016</th>\n      <th>female</th>\n      <td>4.71</td>\n    </tr>\n    <tr>\n      <th>male</th>\n      <td>5.17</td>\n    </tr>\n  </tbody>\n</table>\n<p>1414 rows × 1 columns</p>\n</div>"
     },
     "metadata": {},
     "execution_count": 9
    }
   ],
   "source": [
    "unemp_pivot_mean_gndr = pd.pivot_table(unemp, index = ['country', 'year', 'gender'], values = ['unemploy_rate']).round(2)\n",
    "unemp_pivot_mean_gndr"
   ]
  },
  {
   "cell_type": "code",
   "execution_count": 10,
   "metadata": {},
   "outputs": [
    {
     "output_type": "execute_result",
     "data": {
      "text/plain": [
       "                     unemploy_rate\n",
       "country        year               \n",
       "Australia      2000           5.43\n",
       "               2001           5.88\n",
       "               2002           5.51\n",
       "               2003           5.15\n",
       "               2004           4.78\n",
       "...                            ...\n",
       "United Kingdom 2012           7.72\n",
       "               2013           7.41\n",
       "               2014           6.29\n",
       "               2015           5.27\n",
       "               2016           4.94\n",
       "\n",
       "[707 rows x 1 columns]"
      ],
      "text/html": "<div>\n<style scoped>\n    .dataframe tbody tr th:only-of-type {\n        vertical-align: middle;\n    }\n\n    .dataframe tbody tr th {\n        vertical-align: top;\n    }\n\n    .dataframe thead th {\n        text-align: right;\n    }\n</style>\n<table border=\"1\" class=\"dataframe\">\n  <thead>\n    <tr style=\"text-align: right;\">\n      <th></th>\n      <th></th>\n      <th>unemploy_rate</th>\n    </tr>\n    <tr>\n      <th>country</th>\n      <th>year</th>\n      <th></th>\n    </tr>\n  </thead>\n  <tbody>\n    <tr>\n      <th rowspan=\"5\" valign=\"top\">Australia</th>\n      <th>2000</th>\n      <td>5.43</td>\n    </tr>\n    <tr>\n      <th>2001</th>\n      <td>5.88</td>\n    </tr>\n    <tr>\n      <th>2002</th>\n      <td>5.51</td>\n    </tr>\n    <tr>\n      <th>2003</th>\n      <td>5.15</td>\n    </tr>\n    <tr>\n      <th>2004</th>\n      <td>4.78</td>\n    </tr>\n    <tr>\n      <th>...</th>\n      <th>...</th>\n      <td>...</td>\n    </tr>\n    <tr>\n      <th rowspan=\"5\" valign=\"top\">United Kingdom</th>\n      <th>2012</th>\n      <td>7.72</td>\n    </tr>\n    <tr>\n      <th>2013</th>\n      <td>7.41</td>\n    </tr>\n    <tr>\n      <th>2014</th>\n      <td>6.29</td>\n    </tr>\n    <tr>\n      <th>2015</th>\n      <td>5.27</td>\n    </tr>\n    <tr>\n      <th>2016</th>\n      <td>4.94</td>\n    </tr>\n  </tbody>\n</table>\n<p>707 rows × 1 columns</p>\n</div>"
     },
     "metadata": {},
     "execution_count": 10
    }
   ],
   "source": [
    "unemp_pivot_mean = pd.pivot_table(unemp, index = ['country', 'year'], values = ['unemploy_rate']).round(2)\n",
    "unemp_pivot_mean"
   ]
  },
  {
   "cell_type": "code",
   "execution_count": 11,
   "metadata": {},
   "outputs": [
    {
     "output_type": "error",
     "ename": "KeyError",
     "evalue": "'Spain'",
     "traceback": [
      "\u001b[1;31m---------------------------------------------------------------------------\u001b[0m",
      "\u001b[1;31mKeyError\u001b[0m                                  Traceback (most recent call last)",
      "\u001b[1;32m~\\AppData\\Roaming\\Python\\Python39\\site-packages\\pandas\\core\\indexes\\base.py\u001b[0m in \u001b[0;36mget_loc\u001b[1;34m(self, key, method, tolerance)\u001b[0m\n\u001b[0;32m   2897\u001b[0m             \u001b[1;32mtry\u001b[0m\u001b[1;33m:\u001b[0m\u001b[1;33m\u001b[0m\u001b[1;33m\u001b[0m\u001b[0m\n\u001b[1;32m-> 2898\u001b[1;33m                 \u001b[1;32mreturn\u001b[0m \u001b[0mself\u001b[0m\u001b[1;33m.\u001b[0m\u001b[0m_engine\u001b[0m\u001b[1;33m.\u001b[0m\u001b[0mget_loc\u001b[0m\u001b[1;33m(\u001b[0m\u001b[0mcasted_key\u001b[0m\u001b[1;33m)\u001b[0m\u001b[1;33m\u001b[0m\u001b[1;33m\u001b[0m\u001b[0m\n\u001b[0m\u001b[0;32m   2899\u001b[0m             \u001b[1;32mexcept\u001b[0m \u001b[0mKeyError\u001b[0m \u001b[1;32mas\u001b[0m \u001b[0merr\u001b[0m\u001b[1;33m:\u001b[0m\u001b[1;33m\u001b[0m\u001b[1;33m\u001b[0m\u001b[0m\n",
      "\u001b[1;32mpandas\\_libs\\index.pyx\u001b[0m in \u001b[0;36mpandas._libs.index.IndexEngine.get_loc\u001b[1;34m()\u001b[0m\n",
      "\u001b[1;32mpandas\\_libs\\index.pyx\u001b[0m in \u001b[0;36mpandas._libs.index.IndexEngine.get_loc\u001b[1;34m()\u001b[0m\n",
      "\u001b[1;32mpandas\\_libs\\hashtable_class_helper.pxi\u001b[0m in \u001b[0;36mpandas._libs.hashtable.PyObjectHashTable.get_item\u001b[1;34m()\u001b[0m\n",
      "\u001b[1;32mpandas\\_libs\\hashtable_class_helper.pxi\u001b[0m in \u001b[0;36mpandas._libs.hashtable.PyObjectHashTable.get_item\u001b[1;34m()\u001b[0m\n",
      "\u001b[1;31mKeyError\u001b[0m: 'Spain'",
      "\nThe above exception was the direct cause of the following exception:\n",
      "\u001b[1;31mKeyError\u001b[0m                                  Traceback (most recent call last)",
      "\u001b[1;32m<ipython-input-11-5ee6715342e3>\u001b[0m in \u001b[0;36m<module>\u001b[1;34m\u001b[0m\n\u001b[1;32m----> 1\u001b[1;33m \u001b[0msp_un\u001b[0m \u001b[1;33m=\u001b[0m \u001b[0munemp_pivot_mean_gndr\u001b[0m\u001b[1;33m.\u001b[0m\u001b[0mloc\u001b[0m\u001b[1;33m[\u001b[0m\u001b[1;34m\"Spain\"\u001b[0m\u001b[1;33m]\u001b[0m                   \u001b[1;31m#unemployment evolution in Spain per gender : tendency is to equal\u001b[0m\u001b[1;33m\u001b[0m\u001b[1;33m\u001b[0m\u001b[0m\n\u001b[0m\u001b[0;32m      2\u001b[0m \u001b[0msp_un\u001b[0m\u001b[1;33m\u001b[0m\u001b[1;33m\u001b[0m\u001b[0m\n",
      "\u001b[1;32m~\\AppData\\Roaming\\Python\\Python39\\site-packages\\pandas\\core\\indexing.py\u001b[0m in \u001b[0;36m__getitem__\u001b[1;34m(self, key)\u001b[0m\n\u001b[0;32m    877\u001b[0m \u001b[1;33m\u001b[0m\u001b[0m\n\u001b[0;32m    878\u001b[0m             \u001b[0mmaybe_callable\u001b[0m \u001b[1;33m=\u001b[0m \u001b[0mcom\u001b[0m\u001b[1;33m.\u001b[0m\u001b[0mapply_if_callable\u001b[0m\u001b[1;33m(\u001b[0m\u001b[0mkey\u001b[0m\u001b[1;33m,\u001b[0m \u001b[0mself\u001b[0m\u001b[1;33m.\u001b[0m\u001b[0mobj\u001b[0m\u001b[1;33m)\u001b[0m\u001b[1;33m\u001b[0m\u001b[1;33m\u001b[0m\u001b[0m\n\u001b[1;32m--> 879\u001b[1;33m             \u001b[1;32mreturn\u001b[0m \u001b[0mself\u001b[0m\u001b[1;33m.\u001b[0m\u001b[0m_getitem_axis\u001b[0m\u001b[1;33m(\u001b[0m\u001b[0mmaybe_callable\u001b[0m\u001b[1;33m,\u001b[0m \u001b[0maxis\u001b[0m\u001b[1;33m=\u001b[0m\u001b[0maxis\u001b[0m\u001b[1;33m)\u001b[0m\u001b[1;33m\u001b[0m\u001b[1;33m\u001b[0m\u001b[0m\n\u001b[0m\u001b[0;32m    880\u001b[0m \u001b[1;33m\u001b[0m\u001b[0m\n\u001b[0;32m    881\u001b[0m     \u001b[1;32mdef\u001b[0m \u001b[0m_is_scalar_access\u001b[0m\u001b[1;33m(\u001b[0m\u001b[0mself\u001b[0m\u001b[1;33m,\u001b[0m \u001b[0mkey\u001b[0m\u001b[1;33m:\u001b[0m \u001b[0mTuple\u001b[0m\u001b[1;33m)\u001b[0m\u001b[1;33m:\u001b[0m\u001b[1;33m\u001b[0m\u001b[1;33m\u001b[0m\u001b[0m\n",
      "\u001b[1;32m~\\AppData\\Roaming\\Python\\Python39\\site-packages\\pandas\\core\\indexing.py\u001b[0m in \u001b[0;36m_getitem_axis\u001b[1;34m(self, key, axis)\u001b[0m\n\u001b[0;32m   1108\u001b[0m         \u001b[1;31m# fall thru to straight lookup\u001b[0m\u001b[1;33m\u001b[0m\u001b[1;33m\u001b[0m\u001b[1;33m\u001b[0m\u001b[0m\n\u001b[0;32m   1109\u001b[0m         \u001b[0mself\u001b[0m\u001b[1;33m.\u001b[0m\u001b[0m_validate_key\u001b[0m\u001b[1;33m(\u001b[0m\u001b[0mkey\u001b[0m\u001b[1;33m,\u001b[0m \u001b[0maxis\u001b[0m\u001b[1;33m)\u001b[0m\u001b[1;33m\u001b[0m\u001b[1;33m\u001b[0m\u001b[0m\n\u001b[1;32m-> 1110\u001b[1;33m         \u001b[1;32mreturn\u001b[0m \u001b[0mself\u001b[0m\u001b[1;33m.\u001b[0m\u001b[0m_get_label\u001b[0m\u001b[1;33m(\u001b[0m\u001b[0mkey\u001b[0m\u001b[1;33m,\u001b[0m \u001b[0maxis\u001b[0m\u001b[1;33m=\u001b[0m\u001b[0maxis\u001b[0m\u001b[1;33m)\u001b[0m\u001b[1;33m\u001b[0m\u001b[1;33m\u001b[0m\u001b[0m\n\u001b[0m\u001b[0;32m   1111\u001b[0m \u001b[1;33m\u001b[0m\u001b[0m\n\u001b[0;32m   1112\u001b[0m     \u001b[1;32mdef\u001b[0m \u001b[0m_get_slice_axis\u001b[0m\u001b[1;33m(\u001b[0m\u001b[0mself\u001b[0m\u001b[1;33m,\u001b[0m \u001b[0mslice_obj\u001b[0m\u001b[1;33m:\u001b[0m \u001b[0mslice\u001b[0m\u001b[1;33m,\u001b[0m \u001b[0maxis\u001b[0m\u001b[1;33m:\u001b[0m \u001b[0mint\u001b[0m\u001b[1;33m)\u001b[0m\u001b[1;33m:\u001b[0m\u001b[1;33m\u001b[0m\u001b[1;33m\u001b[0m\u001b[0m\n",
      "\u001b[1;32m~\\AppData\\Roaming\\Python\\Python39\\site-packages\\pandas\\core\\indexing.py\u001b[0m in \u001b[0;36m_get_label\u001b[1;34m(self, label, axis)\u001b[0m\n\u001b[0;32m   1057\u001b[0m     \u001b[1;32mdef\u001b[0m \u001b[0m_get_label\u001b[0m\u001b[1;33m(\u001b[0m\u001b[0mself\u001b[0m\u001b[1;33m,\u001b[0m \u001b[0mlabel\u001b[0m\u001b[1;33m,\u001b[0m \u001b[0maxis\u001b[0m\u001b[1;33m:\u001b[0m \u001b[0mint\u001b[0m\u001b[1;33m)\u001b[0m\u001b[1;33m:\u001b[0m\u001b[1;33m\u001b[0m\u001b[1;33m\u001b[0m\u001b[0m\n\u001b[0;32m   1058\u001b[0m         \u001b[1;31m# GH#5667 this will fail if the label is not present in the axis.\u001b[0m\u001b[1;33m\u001b[0m\u001b[1;33m\u001b[0m\u001b[1;33m\u001b[0m\u001b[0m\n\u001b[1;32m-> 1059\u001b[1;33m         \u001b[1;32mreturn\u001b[0m \u001b[0mself\u001b[0m\u001b[1;33m.\u001b[0m\u001b[0mobj\u001b[0m\u001b[1;33m.\u001b[0m\u001b[0mxs\u001b[0m\u001b[1;33m(\u001b[0m\u001b[0mlabel\u001b[0m\u001b[1;33m,\u001b[0m \u001b[0maxis\u001b[0m\u001b[1;33m=\u001b[0m\u001b[0maxis\u001b[0m\u001b[1;33m)\u001b[0m\u001b[1;33m\u001b[0m\u001b[1;33m\u001b[0m\u001b[0m\n\u001b[0m\u001b[0;32m   1060\u001b[0m \u001b[1;33m\u001b[0m\u001b[0m\n\u001b[0;32m   1061\u001b[0m     \u001b[1;32mdef\u001b[0m \u001b[0m_handle_lowerdim_multi_index_axis0\u001b[0m\u001b[1;33m(\u001b[0m\u001b[0mself\u001b[0m\u001b[1;33m,\u001b[0m \u001b[0mtup\u001b[0m\u001b[1;33m:\u001b[0m \u001b[0mTuple\u001b[0m\u001b[1;33m)\u001b[0m\u001b[1;33m:\u001b[0m\u001b[1;33m\u001b[0m\u001b[1;33m\u001b[0m\u001b[0m\n",
      "\u001b[1;32m~\\AppData\\Roaming\\Python\\Python39\\site-packages\\pandas\\core\\generic.py\u001b[0m in \u001b[0;36mxs\u001b[1;34m(self, key, axis, level, drop_level)\u001b[0m\n\u001b[0;32m   3489\u001b[0m         \u001b[0mindex\u001b[0m \u001b[1;33m=\u001b[0m \u001b[0mself\u001b[0m\u001b[1;33m.\u001b[0m\u001b[0mindex\u001b[0m\u001b[1;33m\u001b[0m\u001b[1;33m\u001b[0m\u001b[0m\n\u001b[0;32m   3490\u001b[0m         \u001b[1;32mif\u001b[0m \u001b[0misinstance\u001b[0m\u001b[1;33m(\u001b[0m\u001b[0mindex\u001b[0m\u001b[1;33m,\u001b[0m \u001b[0mMultiIndex\u001b[0m\u001b[1;33m)\u001b[0m\u001b[1;33m:\u001b[0m\u001b[1;33m\u001b[0m\u001b[1;33m\u001b[0m\u001b[0m\n\u001b[1;32m-> 3491\u001b[1;33m             \u001b[0mloc\u001b[0m\u001b[1;33m,\u001b[0m \u001b[0mnew_index\u001b[0m \u001b[1;33m=\u001b[0m \u001b[0mself\u001b[0m\u001b[1;33m.\u001b[0m\u001b[0mindex\u001b[0m\u001b[1;33m.\u001b[0m\u001b[0mget_loc_level\u001b[0m\u001b[1;33m(\u001b[0m\u001b[0mkey\u001b[0m\u001b[1;33m,\u001b[0m \u001b[0mdrop_level\u001b[0m\u001b[1;33m=\u001b[0m\u001b[0mdrop_level\u001b[0m\u001b[1;33m)\u001b[0m\u001b[1;33m\u001b[0m\u001b[1;33m\u001b[0m\u001b[0m\n\u001b[0m\u001b[0;32m   3492\u001b[0m         \u001b[1;32melse\u001b[0m\u001b[1;33m:\u001b[0m\u001b[1;33m\u001b[0m\u001b[1;33m\u001b[0m\u001b[0m\n\u001b[0;32m   3493\u001b[0m             \u001b[0mloc\u001b[0m \u001b[1;33m=\u001b[0m \u001b[0mself\u001b[0m\u001b[1;33m.\u001b[0m\u001b[0mindex\u001b[0m\u001b[1;33m.\u001b[0m\u001b[0mget_loc\u001b[0m\u001b[1;33m(\u001b[0m\u001b[0mkey\u001b[0m\u001b[1;33m)\u001b[0m\u001b[1;33m\u001b[0m\u001b[1;33m\u001b[0m\u001b[0m\n",
      "\u001b[1;32m~\\AppData\\Roaming\\Python\\Python39\\site-packages\\pandas\\core\\indexes\\multi.py\u001b[0m in \u001b[0;36mget_loc_level\u001b[1;34m(self, key, level, drop_level)\u001b[0m\n\u001b[0;32m   2883\u001b[0m                 \u001b[1;32mreturn\u001b[0m \u001b[0mindexer\u001b[0m\u001b[1;33m,\u001b[0m \u001b[0mmaybe_mi_droplevels\u001b[0m\u001b[1;33m(\u001b[0m\u001b[0mindexer\u001b[0m\u001b[1;33m,\u001b[0m \u001b[0milevels\u001b[0m\u001b[1;33m,\u001b[0m \u001b[0mdrop_level\u001b[0m\u001b[1;33m)\u001b[0m\u001b[1;33m\u001b[0m\u001b[1;33m\u001b[0m\u001b[0m\n\u001b[0;32m   2884\u001b[0m         \u001b[1;32melse\u001b[0m\u001b[1;33m:\u001b[0m\u001b[1;33m\u001b[0m\u001b[1;33m\u001b[0m\u001b[0m\n\u001b[1;32m-> 2885\u001b[1;33m             \u001b[0mindexer\u001b[0m \u001b[1;33m=\u001b[0m \u001b[0mself\u001b[0m\u001b[1;33m.\u001b[0m\u001b[0m_get_level_indexer\u001b[0m\u001b[1;33m(\u001b[0m\u001b[0mkey\u001b[0m\u001b[1;33m,\u001b[0m \u001b[0mlevel\u001b[0m\u001b[1;33m=\u001b[0m\u001b[0mlevel\u001b[0m\u001b[1;33m)\u001b[0m\u001b[1;33m\u001b[0m\u001b[1;33m\u001b[0m\u001b[0m\n\u001b[0m\u001b[0;32m   2886\u001b[0m             \u001b[1;32mreturn\u001b[0m \u001b[0mindexer\u001b[0m\u001b[1;33m,\u001b[0m \u001b[0mmaybe_mi_droplevels\u001b[0m\u001b[1;33m(\u001b[0m\u001b[0mindexer\u001b[0m\u001b[1;33m,\u001b[0m \u001b[1;33m[\u001b[0m\u001b[0mlevel\u001b[0m\u001b[1;33m]\u001b[0m\u001b[1;33m,\u001b[0m \u001b[0mdrop_level\u001b[0m\u001b[1;33m)\u001b[0m\u001b[1;33m\u001b[0m\u001b[1;33m\u001b[0m\u001b[0m\n\u001b[0;32m   2887\u001b[0m \u001b[1;33m\u001b[0m\u001b[0m\n",
      "\u001b[1;32m~\\AppData\\Roaming\\Python\\Python39\\site-packages\\pandas\\core\\indexes\\multi.py\u001b[0m in \u001b[0;36m_get_level_indexer\u001b[1;34m(self, key, level, indexer)\u001b[0m\n\u001b[0;32m   2967\u001b[0m         \u001b[1;32melse\u001b[0m\u001b[1;33m:\u001b[0m\u001b[1;33m\u001b[0m\u001b[1;33m\u001b[0m\u001b[0m\n\u001b[0;32m   2968\u001b[0m \u001b[1;33m\u001b[0m\u001b[0m\n\u001b[1;32m-> 2969\u001b[1;33m             \u001b[0mcode\u001b[0m \u001b[1;33m=\u001b[0m \u001b[0mself\u001b[0m\u001b[1;33m.\u001b[0m\u001b[0m_get_loc_single_level_index\u001b[0m\u001b[1;33m(\u001b[0m\u001b[0mlevel_index\u001b[0m\u001b[1;33m,\u001b[0m \u001b[0mkey\u001b[0m\u001b[1;33m)\u001b[0m\u001b[1;33m\u001b[0m\u001b[1;33m\u001b[0m\u001b[0m\n\u001b[0m\u001b[0;32m   2970\u001b[0m \u001b[1;33m\u001b[0m\u001b[0m\n\u001b[0;32m   2971\u001b[0m             \u001b[1;32mif\u001b[0m \u001b[0mlevel\u001b[0m \u001b[1;33m>\u001b[0m \u001b[1;36m0\u001b[0m \u001b[1;32mor\u001b[0m \u001b[0mself\u001b[0m\u001b[1;33m.\u001b[0m\u001b[0mlexsort_depth\u001b[0m \u001b[1;33m==\u001b[0m \u001b[1;36m0\u001b[0m\u001b[1;33m:\u001b[0m\u001b[1;33m\u001b[0m\u001b[1;33m\u001b[0m\u001b[0m\n",
      "\u001b[1;32m~\\AppData\\Roaming\\Python\\Python39\\site-packages\\pandas\\core\\indexes\\multi.py\u001b[0m in \u001b[0;36m_get_loc_single_level_index\u001b[1;34m(self, level_index, key)\u001b[0m\n\u001b[0;32m   2635\u001b[0m             \u001b[1;32mreturn\u001b[0m \u001b[1;33m-\u001b[0m\u001b[1;36m1\u001b[0m\u001b[1;33m\u001b[0m\u001b[1;33m\u001b[0m\u001b[0m\n\u001b[0;32m   2636\u001b[0m         \u001b[1;32melse\u001b[0m\u001b[1;33m:\u001b[0m\u001b[1;33m\u001b[0m\u001b[1;33m\u001b[0m\u001b[0m\n\u001b[1;32m-> 2637\u001b[1;33m             \u001b[1;32mreturn\u001b[0m \u001b[0mlevel_index\u001b[0m\u001b[1;33m.\u001b[0m\u001b[0mget_loc\u001b[0m\u001b[1;33m(\u001b[0m\u001b[0mkey\u001b[0m\u001b[1;33m)\u001b[0m\u001b[1;33m\u001b[0m\u001b[1;33m\u001b[0m\u001b[0m\n\u001b[0m\u001b[0;32m   2638\u001b[0m \u001b[1;33m\u001b[0m\u001b[0m\n\u001b[0;32m   2639\u001b[0m     \u001b[1;32mdef\u001b[0m \u001b[0mget_loc\u001b[0m\u001b[1;33m(\u001b[0m\u001b[0mself\u001b[0m\u001b[1;33m,\u001b[0m \u001b[0mkey\u001b[0m\u001b[1;33m,\u001b[0m \u001b[0mmethod\u001b[0m\u001b[1;33m=\u001b[0m\u001b[1;32mNone\u001b[0m\u001b[1;33m)\u001b[0m\u001b[1;33m:\u001b[0m\u001b[1;33m\u001b[0m\u001b[1;33m\u001b[0m\u001b[0m\n",
      "\u001b[1;32m~\\AppData\\Roaming\\Python\\Python39\\site-packages\\pandas\\core\\indexes\\base.py\u001b[0m in \u001b[0;36mget_loc\u001b[1;34m(self, key, method, tolerance)\u001b[0m\n\u001b[0;32m   2898\u001b[0m                 \u001b[1;32mreturn\u001b[0m \u001b[0mself\u001b[0m\u001b[1;33m.\u001b[0m\u001b[0m_engine\u001b[0m\u001b[1;33m.\u001b[0m\u001b[0mget_loc\u001b[0m\u001b[1;33m(\u001b[0m\u001b[0mcasted_key\u001b[0m\u001b[1;33m)\u001b[0m\u001b[1;33m\u001b[0m\u001b[1;33m\u001b[0m\u001b[0m\n\u001b[0;32m   2899\u001b[0m             \u001b[1;32mexcept\u001b[0m \u001b[0mKeyError\u001b[0m \u001b[1;32mas\u001b[0m \u001b[0merr\u001b[0m\u001b[1;33m:\u001b[0m\u001b[1;33m\u001b[0m\u001b[1;33m\u001b[0m\u001b[0m\n\u001b[1;32m-> 2900\u001b[1;33m                 \u001b[1;32mraise\u001b[0m \u001b[0mKeyError\u001b[0m\u001b[1;33m(\u001b[0m\u001b[0mkey\u001b[0m\u001b[1;33m)\u001b[0m \u001b[1;32mfrom\u001b[0m \u001b[0merr\u001b[0m\u001b[1;33m\u001b[0m\u001b[1;33m\u001b[0m\u001b[0m\n\u001b[0m\u001b[0;32m   2901\u001b[0m \u001b[1;33m\u001b[0m\u001b[0m\n\u001b[0;32m   2902\u001b[0m         \u001b[1;32mif\u001b[0m \u001b[0mtolerance\u001b[0m \u001b[1;32mis\u001b[0m \u001b[1;32mnot\u001b[0m \u001b[1;32mNone\u001b[0m\u001b[1;33m:\u001b[0m\u001b[1;33m\u001b[0m\u001b[1;33m\u001b[0m\u001b[0m\n",
      "\u001b[1;31mKeyError\u001b[0m: 'Spain'"
     ]
    }
   ],
   "source": [
    "sp_un = unemp_pivot_mean_gndr.loc[\"Spain\"]                   #unemployment evolution in Spain per gender : tendency is to equal\n",
    "sp_un"
   ]
  },
  {
   "cell_type": "code",
   "execution_count": 12,
   "metadata": {},
   "outputs": [
    {
     "output_type": "execute_result",
     "data": {
      "text/plain": [
       "      unemploy_rate\n",
       "year               \n",
       "2000           3.57\n",
       "2001           3.53\n",
       "2002           3.15\n",
       "2003           3.58\n",
       "2004           3.46\n",
       "2005           3.67\n",
       "2006           2.94\n",
       "2007           2.21\n",
       "2008           2.12\n",
       "2009           2.91\n",
       "2010           3.04\n",
       "2011           2.73\n",
       "2012           2.59\n",
       "2013           2.83\n",
       "2014           2.86\n",
       "2015           3.50\n",
       "2016           3.89"
      ],
      "text/html": "<div>\n<style scoped>\n    .dataframe tbody tr th:only-of-type {\n        vertical-align: middle;\n    }\n\n    .dataframe tbody tr th {\n        vertical-align: top;\n    }\n\n    .dataframe thead th {\n        text-align: right;\n    }\n</style>\n<table border=\"1\" class=\"dataframe\">\n  <thead>\n    <tr style=\"text-align: right;\">\n      <th></th>\n      <th>unemploy_rate</th>\n    </tr>\n    <tr>\n      <th>year</th>\n      <th></th>\n    </tr>\n  </thead>\n  <tbody>\n    <tr>\n      <th>2000</th>\n      <td>3.57</td>\n    </tr>\n    <tr>\n      <th>2001</th>\n      <td>3.53</td>\n    </tr>\n    <tr>\n      <th>2002</th>\n      <td>3.15</td>\n    </tr>\n    <tr>\n      <th>2003</th>\n      <td>3.58</td>\n    </tr>\n    <tr>\n      <th>2004</th>\n      <td>3.46</td>\n    </tr>\n    <tr>\n      <th>2005</th>\n      <td>3.67</td>\n    </tr>\n    <tr>\n      <th>2006</th>\n      <td>2.94</td>\n    </tr>\n    <tr>\n      <th>2007</th>\n      <td>2.21</td>\n    </tr>\n    <tr>\n      <th>2008</th>\n      <td>2.12</td>\n    </tr>\n    <tr>\n      <th>2009</th>\n      <td>2.91</td>\n    </tr>\n    <tr>\n      <th>2010</th>\n      <td>3.04</td>\n    </tr>\n    <tr>\n      <th>2011</th>\n      <td>2.73</td>\n    </tr>\n    <tr>\n      <th>2012</th>\n      <td>2.59</td>\n    </tr>\n    <tr>\n      <th>2013</th>\n      <td>2.83</td>\n    </tr>\n    <tr>\n      <th>2014</th>\n      <td>2.86</td>\n    </tr>\n    <tr>\n      <th>2015</th>\n      <td>3.50</td>\n    </tr>\n    <tr>\n      <th>2016</th>\n      <td>3.89</td>\n    </tr>\n  </tbody>\n</table>\n</div>"
     },
     "metadata": {},
     "execution_count": 12
    }
   ],
   "source": [
    "nw_un = unemp_pivot_mean.loc[\"Norway\"]\n",
    "nw_un"
   ]
  },
  {
   "cell_type": "code",
   "execution_count": 13,
   "metadata": {},
   "outputs": [
    {
     "output_type": "execute_result",
     "data": {
      "text/plain": [
       "      unemploy_rate\n",
       "year               \n",
       "2001          22.99\n",
       "2002          24.65\n",
       "2003          24.74\n",
       "2004          22.58\n",
       "2005          21.89\n",
       "2006          20.64\n",
       "2007          20.59\n",
       "2008          18.43\n",
       "2009          19.37\n",
       "2010          20.39\n",
       "2011          20.22\n",
       "2012          20.63\n",
       "2013          20.66\n",
       "2014          20.90\n",
       "2015          21.24\n",
       "2016          22.27"
      ],
      "text/html": "<div>\n<style scoped>\n    .dataframe tbody tr th:only-of-type {\n        vertical-align: middle;\n    }\n\n    .dataframe tbody tr th {\n        vertical-align: top;\n    }\n\n    .dataframe thead th {\n        text-align: right;\n    }\n</style>\n<table border=\"1\" class=\"dataframe\">\n  <thead>\n    <tr style=\"text-align: right;\">\n      <th></th>\n      <th>unemploy_rate</th>\n    </tr>\n    <tr>\n      <th>year</th>\n      <th></th>\n    </tr>\n  </thead>\n  <tbody>\n    <tr>\n      <th>2001</th>\n      <td>22.99</td>\n    </tr>\n    <tr>\n      <th>2002</th>\n      <td>24.65</td>\n    </tr>\n    <tr>\n      <th>2003</th>\n      <td>24.74</td>\n    </tr>\n    <tr>\n      <th>2004</th>\n      <td>22.58</td>\n    </tr>\n    <tr>\n      <th>2005</th>\n      <td>21.89</td>\n    </tr>\n    <tr>\n      <th>2006</th>\n      <td>20.64</td>\n    </tr>\n    <tr>\n      <th>2007</th>\n      <td>20.59</td>\n    </tr>\n    <tr>\n      <th>2008</th>\n      <td>18.43</td>\n    </tr>\n    <tr>\n      <th>2009</th>\n      <td>19.37</td>\n    </tr>\n    <tr>\n      <th>2010</th>\n      <td>20.39</td>\n    </tr>\n    <tr>\n      <th>2011</th>\n      <td>20.22</td>\n    </tr>\n    <tr>\n      <th>2012</th>\n      <td>20.63</td>\n    </tr>\n    <tr>\n      <th>2013</th>\n      <td>20.66</td>\n    </tr>\n    <tr>\n      <th>2014</th>\n      <td>20.90</td>\n    </tr>\n    <tr>\n      <th>2015</th>\n      <td>21.24</td>\n    </tr>\n    <tr>\n      <th>2016</th>\n      <td>22.27</td>\n    </tr>\n  </tbody>\n</table>\n</div>"
     },
     "metadata": {},
     "execution_count": 13
    }
   ],
   "source": [
    "sa_un = unemp_pivot_mean.loc[\"South Africa\"]\n",
    "sa_un"
   ]
  },
  {
   "cell_type": "code",
   "execution_count": 14,
   "metadata": {},
   "outputs": [
    {
     "output_type": "execute_result",
     "data": {
      "text/plain": [
       "           year  unemploy_rate\n",
       "gender                        \n",
       "female  2008.12           7.44\n",
       "male    2008.10           7.02"
      ],
      "text/html": "<div>\n<style scoped>\n    .dataframe tbody tr th:only-of-type {\n        vertical-align: middle;\n    }\n\n    .dataframe tbody tr th {\n        vertical-align: top;\n    }\n\n    .dataframe thead th {\n        text-align: right;\n    }\n</style>\n<table border=\"1\" class=\"dataframe\">\n  <thead>\n    <tr style=\"text-align: right;\">\n      <th></th>\n      <th>year</th>\n      <th>unemploy_rate</th>\n    </tr>\n    <tr>\n      <th>gender</th>\n      <th></th>\n      <th></th>\n    </tr>\n  </thead>\n  <tbody>\n    <tr>\n      <th>female</th>\n      <td>2008.12</td>\n      <td>7.44</td>\n    </tr>\n    <tr>\n      <th>male</th>\n      <td>2008.10</td>\n      <td>7.02</td>\n    </tr>\n  </tbody>\n</table>\n</div>"
     },
     "metadata": {},
     "execution_count": 14
    }
   ],
   "source": [
    "unemp_age_group = unemp.groupby(['gender']).mean().round(2)\n",
    "unemp_age_group"
   ]
  },
  {
   "cell_type": "code",
   "execution_count": 14,
   "metadata": {},
   "outputs": [],
   "source": [
    "\n"
   ]
  }
 ]
}