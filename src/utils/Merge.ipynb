{
 "metadata": {
  "language_info": {
   "codemirror_mode": {
    "name": "ipython",
    "version": 3
   },
   "file_extension": ".py",
   "mimetype": "text/x-python",
   "name": "python",
   "nbconvert_exporter": "python",
   "pygments_lexer": "ipython3",
   "version": "3.9.1-final"
  },
  "orig_nbformat": 2,
  "kernelspec": {
   "name": "python3",
   "display_name": "Python 3.9.1 64-bit",
   "metadata": {
    "interpreter": {
     "hash": "ac59ebe37160ed0dfa835113d9b8498d9f09ceb179beaac4002f036b9467c963"
    }
   }
  }
 },
 "nbformat": 4,
 "nbformat_minor": 2,
 "cells": [
  {
   "cell_type": "code",
   "execution_count": null,
   "metadata": {},
   "outputs": [],
   "source": [
    "import pandas as pd\n",
    "import numpy as np\n",
    "import seaborn as sns\n",
    "import plotly.express as px\n",
    "import plotly.graph_objs as go\n",
    "import psutil\n",
    "import plotly.io as pio\n",
    "from Unemployment import unemp\n",
    "from Suicide import suic\n"
   ]
  },
  {
   "cell_type": "code",
   "execution_count": null,
   "metadata": {},
   "outputs": [],
   "source": [
    "unemp_merge_ages = unemp.groupby('age').mean().round(2)\n",
    "unemp_merge_ages.drop(columns=['year'], inplace=True)\n",
    "unemp_merge_ages"
   ]
  },
  {
   "cell_type": "code",
   "execution_count": null,
   "metadata": {},
   "outputs": [],
   "source": [
    "suic_merge_ages = suic.groupby('age').mean().round(2)\n",
    "suic_merge_ages.drop(columns=['year', 'population'], inplace=True)\n",
    "suic_merge_ages"
   ]
  },
  {
   "cell_type": "code",
   "execution_count": null,
   "metadata": {},
   "outputs": [],
   "source": [
    "mrg_ages = pd.merge(suic_merge_ages, unemp_merge_ages, on='age', how='inner')\n",
    "mrg_ages"
   ]
  },
  {
   "cell_type": "code",
   "execution_count": null,
   "metadata": {},
   "outputs": [],
   "source": [
    "mrg_ages_matrix = sns.heatmap(mrg_ages.corr(), xticklabels=mrg_ages.columns, yticklabels=mrg_ages.columns, annot=True)\n",
    "mrg_ages_matrix\n",
    "a4_dims = (11.7, 8.27)\n",
    "mrg_ages_matrix.figure.savefig(\"..\\\\reports\\\\png\\\\correlation_matrix.png\", dpi=1200, figsize=a4_dims ,bbox_inches='tight')"
   ]
  },
  {
   "cell_type": "code",
   "execution_count": null,
   "metadata": {},
   "outputs": [],
   "source": [
    "unemp_merge_countries = pd.pivot_table(unemp_merge, index='country', values='unemploy_rate')\n",
    "unemp_merge_countries"
   ]
  },
  {
   "cell_type": "code",
   "execution_count": null,
   "metadata": {},
   "outputs": [],
   "source": [
    "suic_merge_countries = pd.pivot_table(suic_merge, index='country', values=['suic_100k'])\n",
    "suic_merge_countries"
   ]
  },
  {
   "cell_type": "code",
   "execution_count": null,
   "metadata": {},
   "outputs": [],
   "source": [
    "mrg_countries = pd.merge(unemp_merge_countries, suic_merge_countries, on='country', how='inner')\n",
    "mrg_countries = mrg_countries.sort_values('unemploy_rate')\n",
    "mrg_countries"
   ]
  },
  {
   "cell_type": "code",
   "execution_count": null,
   "metadata": {},
   "outputs": [],
   "source": [
    "mrg_countries.corr()"
   ]
  },
  {
   "cell_type": "code",
   "execution_count": null,
   "metadata": {},
   "outputs": [],
   "source": [
    "fig = go.Figure()\n",
    "fig.add_trace(go.Scatter(x=mrg_countries.index, y=mrg_countries.unemploy_rate,mode='markers+lines', name=\"Unemployment Rate %\"))\n",
    "fig.add_trace(go.Scatter(x=mrg_countries.index, y=mrg_countries.suic_100k, mode='markers+lines', name=\"Suicide Rate per 100k/population\"))\n",
    "fig.update_layout(legend=dict(x=0,y=1),xaxis=dict(tickmode='linear', tick0=0, tickangle=320), width=1500, height=750, title=\"Unemployment and Suicide Mean Rates Contrasted, 200-2016\")\n",
    "fig.show()\n",
    "fig.write_html(\"..\\\\reports\\\\html\\\\contrast_lines_countries.html\")\n",
    "fig.write_image(\"..\\\\reports\\\\png\\\\contrast_lines_countries.png\", width=1280, height=960)"
   ]
  },
  {
   "cell_type": "code",
   "execution_count": null,
   "metadata": {},
   "outputs": [],
   "source": [
    "#fig2= px.bar_polar(sp_un, r=\"unemploy_rate\", theta = \"gender\",\n",
    "                 #color = \"age\", template = \"plotly_dark\",\n",
    "                 #color_discrete_sequence = px.colors.sequential.Plasma_r)\n",
    "#fig2.show()\n",
    "#fig2.write_html(\"..\\\\reports\\\\html\\\\contrast_lines_ages.html\")\n",
    "#fig2.write_image(\"..\\\\reports\\\\png\\\\contrast_lines_ages.png\")"
   ]
  },
  {
   "cell_type": "code",
   "execution_count": null,
   "metadata": {},
   "outputs": [],
   "source": [
    "unemp_merge_gender = pd.pivot_table(unemp_merge, index='gender', values='unemploy_rate')\r\n",
    "unemp_merge_gender"
   ]
  },
  {
   "cell_type": "code",
   "execution_count": null,
   "metadata": {},
   "outputs": [],
   "source": [
    "suic_merge_gender = pd.pivot_table(suic_merge, index='gender', values=['suic_100k', 'suicides_no'])\n",
    "suic_merge_gender"
   ]
  },
  {
   "cell_type": "code",
   "execution_count": null,
   "metadata": {},
   "outputs": [],
   "source": [
    "gendermerge = pd.merge(suic_merge_gender, unemp_merge_gender, on='gender')\n",
    "gendermerge"
   ]
  },
  {
   "cell_type": "code",
   "execution_count": null,
   "metadata": {},
   "outputs": [],
   "source": [
    "unemp.x = px.data.gapminder().query(\"country == 'Spain'\")\n",
    "fig = px.pie(unemp, values='unemploy_rate', names='year',\n",
    "             title='Unemployment per year per gender',\n",
    "             hover_data=['gender'], labels={'gender':'gender'})\n",
    "fig.update_traces(textposition='inside', textinfo='percent+label')\n",
    "fig.show()"
   ]
  },
  {
   "cell_type": "code",
   "execution_count": null,
   "metadata": {},
   "outputs": [],
   "source": [
    "labels = ['Data Search','Data Cleaning','Data Analysis','Data Plotting', 'Format Adapting']\n",
    "values = [5, 50, 35, 25]\n",
    "\n",
    "fig5 = go.Figure(data=[go.Pie(labels=labels, values=values, textfont=dict(color='black',size=18))]\n",
    "fig5.show()\n",
    "fig5.write_html(\"..\\\\reports\\\\html\\\\pie.html\")\n",
    "fig5.write_image(\"..\\\\reports\\\\png\\\\pie.png\", width=1280, height=960)"
   ]
  },
  {
   "cell_type": "code",
   "execution_count": null,
   "metadata": {},
   "outputs": [],
   "source": [
    "unemp_merge_ages = unemp.groupby('age').mean().round(2)\n",
    "unemp_merge_ages.drop(columns='year', inplace=True)\n",
    "unemp_merge_ages"
   ]
  }
 ]
}