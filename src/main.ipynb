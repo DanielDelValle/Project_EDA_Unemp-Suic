{
 "metadata": {
  "language_info": {
   "codemirror_mode": {
    "name": "ipython",
    "version": 3
   },
   "file_extension": ".py",
   "mimetype": "text/x-python",
   "name": "python",
   "nbconvert_exporter": "python",
   "pygments_lexer": "ipython3",
   "version": "3.9.1-final"
  },
  "orig_nbformat": 2,
  "kernelspec": {
   "name": "python3",
   "display_name": "Python 3.9.1 64-bit",
   "metadata": {
    "interpreter": {
     "hash": "ac59ebe37160ed0dfa835113d9b8498d9f09ceb179beaac4002f036b9467c963"
    }
   }
  }
 },
 "nbformat": 4,
 "nbformat_minor": 2,
 "cells": [
  {
   "source": [
    "# E.D.A.: CORRELATION BETWEEN  UNEMPLOYMENT & SUICIDE RATES IN 43 COUNTRIES FROM 2000 TO 2016  \n",
    "By Daniel Del Valle González  2020-2021"
   ],
   "cell_type": "markdown",
   "metadata": {}
  },
  {
   "source": [
    "## STEP 1 - DATA CLEANING & NORMALISING\n",
    "## STEP 2 - DATA ANALISYS & TENDENCIES. TOP & BOTTOM COUNTRIES IN SUICIDE & UNEMPLOYMENT RATES\n",
    "## STEP 3 - GRAPHIC VISUALISATION OF EACH DATAFRAME TENDENCIES"
   ],
   "cell_type": "markdown",
   "metadata": {}
  },
  {
   "source": [
    "## STEP 1 - DATA CLEANING & NORMALISING"
   ],
   "cell_type": "markdown",
   "metadata": {}
  },
  {
   "source": [
    "### We got 2 csv from:   \n",
    "1 - https://www.kaggle.com/szamil/who-suicide-statistics csv for suicides from 2000.  \n",
    "2 - https://stats.oecd.org/Index.aspx?QueryId=64198# csv for unemployment rates. I selected and added some countries that by defect were not included.  \n",
    "\n",
    "We create 2 DataFrames from them:"
   ],
   "cell_type": "markdown",
   "metadata": {}
  },
  {
   "cell_type": "code",
   "execution_count": 1,
   "metadata": {},
   "outputs": [],
   "source": [
    "import pandas as pd\n",
    "import numpy as np\n",
    "import seaborn as sns\n",
    "import plotly.express as px\n",
    "import plotly.graph_objs as go\n",
    "import plotly.io as pio\n",
    "import psutil\n",
    "from utils.folders_tb import *\n",
    "from utils.mining_data_tb import *\n",
    "#from utils.visualization_tb import *"
   ]
  },
  {
   "cell_type": "code",
   "execution_count": 2,
   "metadata": {},
   "outputs": [],
   "source": [
    "from utils.Unemployment import *\n",
    "from utils.Suicide import *"
   ]
  },
  {
   "source": [
    "## Both had to be cleaned and \"synchronised\" in many ways:"
   ],
   "cell_type": "markdown",
   "metadata": {}
  },
  {
   "cell_type": "code",
   "execution_count": 3,
   "metadata": {},
   "outputs": [],
   "source": [
    "suicide = pd.read_csv(\"C:\\\\DATA_SCIENCE\\\\PROYECTO\\\\documentation\\\\who_suicide_statistics.csv\")\n",
    "unemployment = pd.read_csv(\"C:\\\\DATA_SCIENCE\\\\PROYECTO\\\\documentation\\\\unemployment_all_ratio.csv\")"
   ]
  },
  {
   "cell_type": "code",
   "execution_count": 4,
   "metadata": {},
   "outputs": [],
   "source": [
    "suic, unemp = intersector(df1=suicide, df2=unemployment, col1=\"country\", col2=\"Country\")      #creating dataframes with data about only their shared countries"
   ]
  },
  {
   "source": [
    "### Unemployment CSV included \"employment rate\" and other values (columns). We only select those regarding to \"unemployment rate\""
   ],
   "cell_type": "markdown",
   "metadata": {}
  },
  {
   "cell_type": "code",
   "execution_count": 5,
   "metadata": {},
   "outputs": [],
   "source": [
    "unemp = only_desired(df=unemp, col1=\"Series\", desired=\"Unemployment rate\")  #selecting onlye \"unemployment\" stadistic values"
   ]
  },
  {
   "source": [
    "### Unemployment DataFrame had some groups of countries that did not appear on the Suicides Rates DataFrame, so are discarded."
   ],
   "cell_type": "markdown",
   "metadata": {}
  },
  {
   "cell_type": "code",
   "execution_count": 6,
   "metadata": {},
   "outputs": [],
   "source": [
    "unemp = str_discarder(unemp, \"Country\", \"OECD\")                              #discarding groups of countries(no info in the other dataframe)\n",
    "unemp = str_discarder(unemp, \"Country\", \"Euro\")"
   ]
  },
  {
   "source": [
    "### Columns and values from both dataframes are to be renamed with similar names to allow easy contrast"
   ],
   "cell_type": "markdown",
   "metadata": {}
  },
  {
   "cell_type": "code",
   "execution_count": 7,
   "metadata": {},
   "outputs": [],
   "source": [
    "unemp = column_renamer(unemp, ['SEX', 'Value', 'Time'], ['Gender', 'Unemploy_Rate', 'Year'])\n",
    "suic = column_renamer(suic, ['sex'], ['gender'])"
   ]
  },
  {
   "cell_type": "code",
   "execution_count": 8,
   "metadata": {},
   "outputs": [],
   "source": [
    "unemp = unemp[['Country', 'Gender', 'Age', 'Year', 'Unemploy_Rate']]      #selection only useful columns in uneployment dataframe"
   ]
  },
  {
   "cell_type": "code",
   "execution_count": 9,
   "metadata": {},
   "outputs": [],
   "source": [
    "column_lower(suic)                                                        #normalising columns names\n",
    "column_lower(unemp)                                                                    "
   ]
  },
  {
   "cell_type": "code",
   "execution_count": 10,
   "metadata": {},
   "outputs": [],
   "source": [
    "value_renamer(unemp, \"gender\", \"MEN\", \"male\")                             #normalising \"gender\" column formats   \n",
    "value_renamer(unemp, \"gender\", \"WOMEN\", \"female\")"
   ]
  },
  {
   "cell_type": "code",
   "execution_count": 11,
   "metadata": {},
   "outputs": [],
   "source": [
    "value_discarder(suic, \"age\", \"14\")\n",
    "value_discarder(suic, \"age\", \"75+\")\n",
    "value_discarder(unemp, \"gender\", \"MW\") #discarding MW values as they are ambiguous, unaccurate summatories\"\"\""
   ]
  },
  {
   "cell_type": "code",
   "execution_count": 12,
   "metadata": {},
   "outputs": [],
   "source": [
    "str_replacer(unemp, \"age\", \" to \", \"-\")"
   ]
  },
  {
   "cell_type": "code",
   "execution_count": 13,
   "metadata": {},
   "outputs": [],
   "source": [
    "str_cleaner(suic, \"age\", \"years \")"
   ]
  },
  {
   "source": [
    "### Dataframes had data in different years ranges, so we had to cut them to fit:"
   ],
   "cell_type": "markdown",
   "metadata": {}
  },
  {
   "cell_type": "code",
   "execution_count": 14,
   "metadata": {},
   "outputs": [],
   "source": [
    "unemp = unemp[unemp['year'] <= 2016]\n",
    "suic = suic[suic['year'] >= 2000]"
   ]
  },
  {
   "source": [
    "### On the \"age\" columns the ranges where different (fewer and broader in Suicides Df, narrower in Unemployment Df. Synchronisation was not an easy task)"
   ],
   "cell_type": "markdown",
   "metadata": {}
  },
  {
   "cell_type": "code",
   "execution_count": 15,
   "metadata": {},
   "outputs": [],
   "source": [
    "unemp = unemp[(unemp['age'] == '15-24') | (unemp['age'] == '25-34') |(unemp['age'] == '35-44') |(unemp['age'] == '45-54') | (unemp['age'] == '55-64') |(unemp['age'] == '65-69') | (unemp['age'] == '70-74')]\n"
   ]
  },
  {
   "cell_type": "code",
   "execution_count": 16,
   "metadata": {},
   "outputs": [],
   "source": [
    "unemp = unemp[(unemp['age'] == '15-24') | (unemp['age'] == '25-34') |(unemp['age'] == '35-44') |(unemp['age'] == '45-54') | (unemp['age'] == '55-64') |(unemp['age'] == '65-69') | (unemp['age'] == '70-74')]                                                                                               #discarding duplicated age ranges(some are include inside others) \n",
    "\n",
    "unemp.loc[(unemp[\"age\"] == '35-44') | (unemp[\"age\"] == '45-54'), 'age'] = '35-54'                                  #merging smaller ranges into a bigg one (and common with my other csv)\n",
    "unemp.loc[(unemp[\"age\"] == '55-64') | (unemp[\"age\"] == '65-69') | (unemp[\"age\"] == '70-74'), 'age'] = \"55-74\""
   ]
  },
  {
   "source": [
    "## STEP 2 - DATA ANALISYS & TENDENCIES. TOP & BOTTOM COUNTRIES IN SUICIDE & UNEMPLOYMENT RATES"
   ],
   "cell_type": "markdown",
   "metadata": {}
  },
  {
   "source": [
    "### A common measure of suicide in stadistics is \"suicies per 100k people\", so we add a column containing those values for each slice of population, given that we have the info."
   ],
   "cell_type": "markdown",
   "metadata": {}
  },
  {
   "cell_type": "code",
   "execution_count": 17,
   "metadata": {},
   "outputs": [],
   "source": [
    "add_ratio(suic, \"suic_100k\", \"suicides_no\", \"population\", 100000, 2)   #creating a column with desired value; just 2 decimals is enough"
   ]
  },
  {
   "source": [
    "### We create some sub-dataframes with info centered in distribution per Country:"
   ],
   "cell_type": "markdown",
   "metadata": {}
  },
  {
   "cell_type": "code",
   "execution_count": 18,
   "metadata": {},
   "outputs": [],
   "source": [
    "suic_countries_mean = gr_meaner(suic, \"country\", \"suic_100k\")\r\n",
    "unemp_countries_mean = gr_meaner(unemp, \"country\", \"unemploy_rate\")"
   ]
  },
  {
   "source": [
    "### Then we create some sub-dataframes with info centered in Age: "
   ],
   "cell_type": "markdown",
   "metadata": {}
  },
  {
   "cell_type": "code",
   "execution_count": 19,
   "metadata": {},
   "outputs": [],
   "source": [
    "suic_ages_mean = gr_meaner(suic, \"age\", \"suic_100k\")\n",
    "unemp_ages_mean = gr_meaner(unemp, \"age\", \"unemploy_rate\")"
   ]
  },
  {
   "source": [
    "### We also create sub-dataframes for distribution in Gender: "
   ],
   "cell_type": "markdown",
   "metadata": {}
  },
  {
   "cell_type": "code",
   "execution_count": 20,
   "metadata": {},
   "outputs": [],
   "source": [
    "suic_genders_mean = gr_meaner(suic, \"gender\", \"suicides_no\")\n",
    "unemp_genders_mean = gr_meaner(unemp, \"gender\", \"unemploy_rate\")"
   ]
  },
  {
   "source": [
    "### Suicide countries of Interest:"
   ],
   "cell_type": "markdown",
   "metadata": {}
  },
  {
   "cell_type": "code",
   "execution_count": null,
   "metadata": {},
   "outputs": [],
   "source": [
    "most_per_100k , least_per_100k = most_least(suic, 'country', 'suic_100k', 5)"
   ]
  },
  {
   "source": [
    "### Unemployment countries of Interest:"
   ],
   "cell_type": "markdown",
   "metadata": {}
  },
  {
   "cell_type": "code",
   "execution_count": null,
   "metadata": {},
   "outputs": [],
   "source": [
    "most_unemp, least_unemp = most_least(unemp, \"country\", \"unemploy_rate\", 5)"
   ]
  },
  {
   "cell_type": "code",
   "execution_count": 21,
   "metadata": {},
   "outputs": [],
   "source": [
    "unemp_pivot_mean_gndr = pd.pivot_table(unemp, index = ['country', 'year', 'gender'], values = ['unemploy_rate']).round(2)"
   ]
  },
  {
   "cell_type": "code",
   "execution_count": 22,
   "metadata": {},
   "outputs": [],
   "source": [
    "sp_un = unemp_pivot_mean_gndr.loc[\"Spain\"]                              #unemployment evolution in Spain per gender : tendency is to equal"
   ]
  },
  {
   "cell_type": "code",
   "execution_count": 23,
   "metadata": {},
   "outputs": [],
   "source": [
    "unemp_pivot_mean = pd.pivot_table(unemp, index = ['country', 'year'], values = ['unemploy_rate']).round(2)"
   ]
  },
  {
   "source": [
    "## STEP 3 - GRAPHIC VISUALISATION OF EACH DATAFRAME TENDENCIES"
   ],
   "cell_type": "markdown",
   "metadata": {}
  },
  {
   "cell_type": "code",
   "execution_count": 24,
   "metadata": {},
   "outputs": [],
   "source": [
    "import pandas as pd\n",
    "import numpy as np\n",
    "import seaborn as sns\n",
    "import plotly.express as px\n",
    "import plotly.graph_objs as go\n",
    "import psutil\n",
    "import plotly.io as pio\n",
    "from utils.Unemployment import *\n",
    "from utils.Suicide import *"
   ]
  },
  {
   "cell_type": "code",
   "execution_count": null,
   "metadata": {},
   "outputs": [],
   "source": []
  }
 ]
}